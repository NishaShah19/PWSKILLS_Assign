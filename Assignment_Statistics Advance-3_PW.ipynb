{
 "cells": [
  {
   "cell_type": "markdown",
   "id": "6952c452",
   "metadata": {},
   "source": [
    "#### Q1: What is Estimation Statistics? Explain point estimate and interval estimate.\n",
    "\n",
    "Estimation is a process in which we obtain the values of unknown population parameters with the help of sample data. In other words, it is a data analysis framework that combines effect sizes and confidence intervals to plan an experiment, analyze data, and interpret the results.\n",
    "\n",
    "- Point Estimates\n",
    "A point estimate is a sample statistic calculated using the sample data to estimate the most likely value of the corresponding unknown population parameter. In other words, we derive the point estimate from a single value in the sample and use it to estimate the population value.\n",
    "x̅ = Σx/n\n",
    "\n",
    "- Interval Estimates\n",
    "A confidence interval estimate is a range of values constructed from sample data so that the population parameter will likely occur within the range at a specified probability. Accordingly, the specified probability is the level of confidence.\n"
   ]
  },
  {
   "cell_type": "markdown",
   "id": "35f1b874",
   "metadata": {},
   "source": [
    "#### Q2. Write a Python function to estimate the population mean using a sample mean and standard deviation."
   ]
  },
  {
   "cell_type": "code",
   "execution_count": 1,
   "id": "b84e4b48",
   "metadata": {},
   "outputs": [
    {
     "name": "stdout",
     "output_type": "stream",
     "text": [
      "Standard Deviation of the sample is 15.61623087261029 \n",
      "Mean of the sample is 13.666666666666666 \n"
     ]
    }
   ],
   "source": [
    "import statistics \n",
    " \n",
    "data = [7,5,4,9,12,45]\n",
    " \n",
    "print(\"Standard Deviation of the sample is % s \"% (statistics.stdev(data)))\n",
    "print(\"Mean of the sample is % s \" % (statistics.mean(data))) "
   ]
  },
  {
   "cell_type": "markdown",
   "id": "98b76828",
   "metadata": {},
   "source": [
    "#### Q3: What is Hypothesis testing? Why is it used? State the importance of Hypothesis testing.\n",
    "\n",
    "Hypothesis testing is a type of inferential statistics that is used to test assumptions \n",
    "and draw conclusions about the population from the available sample data. It \n",
    "involves setting up a null hypothesis and an alternative hypothesis followed by \n",
    "conducting a statistical test of significance. A conclusion is drawn based on the \n",
    "value of the test statistic, the critical value, and the confidence intervals. A \n",
    "hypothesis test can be left-tailed, right-tailed, and two-tailed.\n",
    "- The purpose of hypothesis testing is to test whether the null hypothesis (there is no difference, no effect) can be rejected or approved. If the null hypothesis is rejected, then the research hypothesis can be accepted. If the null hypothesis is accepted, then the research hypothesis is rejected."
   ]
  },
  {
   "cell_type": "markdown",
   "id": "35ac0d31",
   "metadata": {},
   "source": [
    "#### Q4. Create a hypothesis that states whether the average weight of male college students is greater than the average weight of female college students."
   ]
  },
  {
   "cell_type": "markdown",
   "id": "333f188b",
   "metadata": {},
   "source": [
    "#### Q5. Write a Python script to conduct a hypothesis test on the difference between two population means, given a sample from each population."
   ]
  },
  {
   "cell_type": "raw",
   "id": "baf27388",
   "metadata": {},
   "source": []
  },
  {
   "cell_type": "markdown",
   "id": "b81517f3",
   "metadata": {},
   "source": [
    "#### Q6: What is a null and alternative hypothesis? Give some examples.\n",
    "\n",
    "- Null Hypothesis: The null-hypothesis is considered an accepted truth. It presumes \n",
    "that the sampled data and the population data have no difference. It is denoted by \n",
    "H0\n",
    "- Alternative Hypothesis: An alternative hypothesis is an opposing theory to the null \n",
    "hypothesis. For example, if the null hypothesis predicts something to be true, the \n",
    "alternative hypothesis predicts it to be false. The alternative hypothesis often is the \n",
    "statement you test when attempting to disprove the null hypothesis. It is denoted \n",
    "by H1 or Ha\n",
    "\n",
    "- Example : To check the water quality of a river for one year, the researchers are doing the observation. As per the null hypothesis, there is no change in water quality in the first half of the year as compared to the second half. But in the alternative hypothesis, the quality of water is poor in the second half when observed."
   ]
  },
  {
   "cell_type": "markdown",
   "id": "c94c3cd8",
   "metadata": {},
   "source": [
    "#### Q7: Write down the steps involved in hypothesis testing.\n",
    "\n",
    "Formulating the null hypothesis (H0) and alternative hypothesis (Ha): The null \n",
    "hypothesis is the statement of no effect or no difference in the population, while \n",
    "the alternative hypothesis is the statement that contradicts the null hypothesis \n",
    "and represents the possibility of an effect or difference.\n",
    "- Choosing a significance level (α): The significance level, denoted as α, is the \n",
    "predetermined threshold that determines the level of evidence required to reject \n",
    "the null hypothesis.\n",
    "- Selecting an appropriate statistical test: The choice of a statistical test depends \n",
    "on the nature of the data and the research question. There are various tests \n",
    "available, such as t-tests, chi-square tests, ANOVA, correlation analysis, and \n",
    "regression analysis, among others.\n",
    "- Collecting and analyzing data: Data is collected from a sample, and the statistical \n",
    "test is applied to the sample data. The test generates a test statistic, which \n",
    "measures the degree of evidence against the null hypothesis. The test statistic \n",
    "follows a specific probability distribution under the assumption of the null \n",
    "hypothesis\n",
    "- Determining the critical region and p-value: The critical region is the range of \n",
    "values of the test statistic that leads to the rejection of the null hypothesis. The p-value is the probability of obtaining a test statistic as extreme as or more extreme \n",
    "than the one observed, assuming the null hypothesis is true. If the p-value is \n",
    "smaller than the chosen significance level (α), the null hypothesis is rejected.\n",
    "- Interpreting the results: Based on the analysis, a decision is made regarding the \n",
    "null hypothesis. If the null hypothesis is rejected, it suggests that there is \n",
    "sufficient evidence to support the alternative hypothesis. If the null hypothesis is \n",
    "not rejected, it indicates that there is not enough evidence to support the \n",
    "alternative hypothesis"
   ]
  },
  {
   "cell_type": "markdown",
   "id": "34a4a369",
   "metadata": {},
   "source": [
    "#### Q8. Define p-value and explain its significance in hypothesis testing.\n",
    "\n",
    "P-Value: A p-value is a crucial element of any hypothesis test results. It’s a number \n",
    "between 0 and 1, and it gauges the probability that random fluctuations caused any \n",
    "data that might cause you to reject the null hypothesis. It’s calculated by running \n",
    "test results through a statistical significance test. If the p-value is lower than your \n",
    "alpha level, then you reject the null hypothesis. If higher, then you do not reject the \n",
    "null hypothesis\n"
   ]
  },
  {
   "cell_type": "markdown",
   "id": "a79a54d6",
   "metadata": {},
   "source": [
    "#### Q9. Generate a Student's t-distribution plot using Python's matplotlib library, with the degrees of freedom parameter set to 10."
   ]
  },
  {
   "cell_type": "code",
   "execution_count": 3,
   "id": "8a985f8a",
   "metadata": {},
   "outputs": [
    {
     "data": {
      "text/plain": [
       "(array([1.51113066, 0.        , 0.        , 0.        , 0.75556533,\n",
       "        1.51113066, 0.        , 0.        , 0.        , 1.51113066,\n",
       "        0.75556533, 1.51113066, 0.        , 0.        , 0.75556533,\n",
       "        0.        , 0.75556533, 0.75556533, 0.75556533, 0.75556533]),\n",
       " array([-1.20722883, -1.11899468, -1.03076053, -0.94252638, -0.85429222,\n",
       "        -0.76605807, -0.67782392, -0.58958977, -0.50135561, -0.41312146,\n",
       "        -0.32488731, -0.23665316, -0.148419  , -0.06018485,  0.0280493 ,\n",
       "         0.11628346,  0.20451761,  0.29275176,  0.38098591,  0.46922007,\n",
       "         0.55745422]),\n",
       " <BarContainer object of 20 artists>)"
      ]
     },
     "execution_count": 3,
     "metadata": {},
     "output_type": "execute_result"
    },
    {
     "data": {
      "image/png": "[encoded data removed]",
      "text/plain": [
       "<Figure size 432x288 with 1 Axes>"
      ]
     },
     "metadata": {
      "needs_background": "light"
     },
     "output_type": "display_data"
    }
   ],
   "source": [
    "from scipy.stats import t\n",
    "import matplotlib.pyplot as plt\n",
    "\n",
    "#generate t distribution with sample size 15\n",
    "x = t.rvs(df=10, size=15)\n",
    "\n",
    "#create plot of t distribution\n",
    "plt.hist(x, density=True, edgecolor='black', bins=20)"
   ]
  },
  {
   "cell_type": "markdown",
   "id": "d7d5019d",
   "metadata": {},
   "source": [
    "#### Q10. Write a Python program to calculate the two-sample t-test for independent samples, given two random samples of equal size and a null hypothesis that the population means are equal."
   ]
  },
  {
   "cell_type": "code",
   "execution_count": 4,
   "id": "04d1d334",
   "metadata": {},
   "outputs": [],
   "source": [
    "import numpy as np\n",
    "\n",
    "group1 = np.array([14, 15, 15, 16, 13, 8, 14, 17, 16, 14, 19, 20, 21, 15, 15, 16, 16, 13, 14, 12])\n",
    "group2 = np.array([15, 17, 14, 17, 14, 8, 12, 19, 19, 14, 17, 22, 24, 16, 13, 16, 13, 18, 15, 13])"
   ]
  },
  {
   "cell_type": "code",
   "execution_count": 5,
   "id": "41f1d821",
   "metadata": {},
   "outputs": [
    {
     "name": "stdout",
     "output_type": "stream",
     "text": [
      "7.727500000000001 12.260000000000002\n"
     ]
    }
   ],
   "source": [
    "#find variance for each group\n",
    "print(np.var(group1), np.var(group2))"
   ]
  },
  {
   "cell_type": "code",
   "execution_count": 6,
   "id": "d6b76ed3",
   "metadata": {},
   "outputs": [
    {
     "data": {
      "text/plain": [
       "Ttest_indResult(statistic=-0.6337397070250238, pvalue=0.5300471010405257)"
      ]
     },
     "execution_count": 6,
     "metadata": {},
     "output_type": "execute_result"
    }
   ],
   "source": [
    "import scipy.stats as stats\n",
    "\n",
    "#perform two sample t-test with equal variances\n",
    "stats.ttest_ind(a=group1, b=group2, equal_var=True)"
   ]
  },
  {
   "cell_type": "markdown",
   "id": "45cb7ee1",
   "metadata": {},
   "source": [
    "#### Q11: What is Student’s t distribution? When to use the t-Distribution.\n",
    "\n",
    "The t-distribution, also known as the Student’s t-distribution, is a type of probability distribution that is similar to the normal distribution with its bell shape but has heavier tails. It is used for estimating population parameters for small sample sizes or unknown variances. T-distributions have a greater chance for extreme values than normal distributions, and as a result have fatter tails.\n",
    "- The t-distribution should be used if the population sample size is small and the standard deviation is unknown. If not, then the normal distribution should be used"
   ]
  },
  {
   "cell_type": "markdown",
   "id": "ce0e97ca",
   "metadata": {},
   "source": [
    "#### Q12: What is t-statistic? State the formula for t-statistic.\n",
    "\n",
    "In statistics, the t-statistic is the ratio of the departure of the estimated value of a parameter from its hypothesized value to its standard error. It is used in hypothesis testing via Student's t-test. The t-statistic is used in a t-test to determine whether to support or reject the null hypothesis.\n",
    "\n",
    "- formula - t = (X‾ - μ0) / (s / √n)"
   ]
  },
  {
   "cell_type": "markdown",
   "id": "8deab041",
   "metadata": {},
   "source": [
    "#### Q13. A coffee shop owner wants to estimate the average daily revenue for their shop. They take a random sample of 50 days and find the sample mean revenue to be dollar 500 with a standard deviation of dollar 50. Estimate the population mean revenue with a 95% confidence interval."
   ]
  },
  {
   "cell_type": "raw",
   "id": "dfc095bc",
   "metadata": {},
   "source": [
    "std = 50 , CI = 95% = 0.05 , n = 50 , mu = 500 \n",
    "X‾ = mu +(Zalpha * std)/√n\n",
    "where , X‾ = Population mean ,n =sample size  , mu = sample mean , Zaplha = Z(0.05) = 1.96\n",
    "\n",
    "X‾ = 500 + (1.96 * 50)/7.07\n",
    "   = 500 + (13.861)\n",
    "X‾   = 513"
   ]
  },
  {
   "cell_type": "code",
   "execution_count": 28,
   "id": "a7fb8a49",
   "metadata": {},
   "outputs": [
    {
     "data": {
      "text/plain": [
       "(499.8726087302306, 500.1273912697694)"
      ]
     },
     "execution_count": 28,
     "metadata": {},
     "output_type": "execute_result"
    }
   ],
   "source": [
    "import numpy as np\n",
    "import scipy.stats as st\n",
    "  \n",
    "# define sample data\n",
    "gfg_data = np.random.randint(1,50,50)\n",
    "\n",
    "  \n",
    "# create 99% confidence interval\n",
    "# for population mean weight\n",
    "st.norm.interval(alpha=0.05,loc =500, scale=st.sem(gfg_data))"
   ]
  },
  {
   "cell_type": "markdown",
   "id": "4d3e0e1d",
   "metadata": {},
   "source": [
    "#### Q14. A researcher hypothesizes that a new drug will decrease blood pressure by 10 mmHg. They conduct a clinical trial with 100 patients and find that the sample mean decrease in blood pressure is 8 mmHg with a standard deviation of 3 mmHg. Test the hypothesis with a significance level of 0.05."
   ]
  },
  {
   "cell_type": "raw",
   "id": "dee25c34",
   "metadata": {},
   "source": [
    "x‾ = 8 , std = 3 , CI = 0.05 , n = 100 , μ0 = 10\n",
    "\n",
    "Z = ( x̅ – μ0 ) / (σ /√n)\n",
    "H0 = null hypothesis.\n",
    "Ha = alternate hypothesis.\n",
    "Solution:\n",
    "Z = (8 - 10) / (3/10)\n",
    " = (-2)/(0.3)\n",
    " = -6.66\n",
    "\n",
    "We already know that the level of significance is 0.05, and the z-score is . Let us now compare the Z-test with it.\n"
   ]
  },
  {
   "cell_type": "markdown",
   "id": "45c36623",
   "metadata": {},
   "source": [
    "#### Q15. An electronics company produces a certain type of product with a mean weight of 5 pounds and a standard deviation of 0.5 pounds. A random sample of 25 products is taken, and the sample mean weight is found to be 4.8 pounds. Test the hypothesis that the true mean weight of the products is less than 5 pounds with a significance level of 0.01."
   ]
  },
  {
   "cell_type": "raw",
   "id": "0a625a78",
   "metadata": {},
   "source": [
    "X‾ = Popluation mean = 5 , std = 0.5 , n = 25 , x̅ = sample mean = 4.8 , CI = 0.01\n",
    "\n",
    "Z = ( x̅ – X‾ ) / (std /√n)\n",
    "Here, x̅ is the sample mean,\n",
    "X‾ is the population mean,\n",
    "std is the standard deviation,\n",
    "n is the sample size.\n",
    "\n",
    "Z = (4.8 - 5)/(0.5/5)\n",
    " = (-0.2)/0.1\n",
    " = -2\n",
    "\n",
    "We already know that the level of significance is 0.01, and the z-score is 0.0228. Let us now compare the Z-test with it.\n",
    "0.0228 > 0.01  therefore, the null hypothesis is true.\n",
    "Thus, he true mean weight of the products is less than 5 pounds with a significance level of 0.01 is true\n"
   ]
  },
  {
   "cell_type": "markdown",
   "id": "017bca8b",
   "metadata": {},
   "source": [
    "#### Q16. Two groups of students are given different study materials to prepare for a test. The first group (n1 =30) has a mean score of 80 with a standard deviation of 10, and the second group (n2 = 40) has a mean score of 75 with a standard deviation of 8. Test the hypothesis that the population means for the two groups are equal with a significance level of 0.01."
   ]
  },
  {
   "cell_type": "raw",
   "id": "e3447001",
   "metadata": {},
   "source": [
    "n1 = 30 , X1‾ = 80 , std = 10\n",
    "n2 = 40 , X2‾ = 75 , std = 8\n",
    "CI = 0.01\n",
    "X1‾ = X2‾\n",
    "\n",
    "Sp = estimate std = √{[(n1-1)S1^2+ (n2-1)S2^2]/n1+n2-2}\n",
    " = 8.91\n",
    "    \n",
    "T = test statistics = (X1‾ - X2‾)/Sp√1/n1+1/n2\n",
    " = = 2.51"
   ]
  },
  {
   "cell_type": "markdown",
   "id": "bd54965b",
   "metadata": {},
   "source": [
    "#### Q17. A marketing company wants to estimate the average number of ads watched by viewers during a TV program. They take a random sample of 50 viewers and find that the sample mean is 4 with a standard deviation of 1.5. Estimate the population mean with a 99% confidence interval."
   ]
  },
  {
   "cell_type": "raw",
   "id": "22cc3f92",
   "metadata": {},
   "source": [
    "n = 50 , sample mean = x̅= 4 , std = 1.5 , CI = 99% , alpha = 0.1 , X‾ = ?\n",
    "\n",
    "Point estimate = E = Zalpha/2 std/√n\n",
    "                   =Z0.1/2 1.5/√50\n",
    "                   =Z (0.005) 1.5/√n\n",
    "                   =-2.57(0.212)\n",
    "                   = 0.545\n",
    "                "
   ]
  },
  {
   "cell_type": "code",
   "execution_count": 27,
   "id": "e12f3c54",
   "metadata": {},
   "outputs": [
    {
     "data": {
      "text/plain": [
       "(3.9750800825726014, 4.024919917427399)"
      ]
     },
     "execution_count": 27,
     "metadata": {},
     "output_type": "execute_result"
    }
   ],
   "source": [
    "import numpy as np\n",
    "import scipy.stats as st\n",
    "  \n",
    "# define sample data\n",
    "gfg_data = np.random.randint(1,50,50)\n",
    "\n",
    "  \n",
    "# create 99% confidence interval\n",
    "# for population mean weight\n",
    "st.norm.interval(alpha=0.01,loc =4, scale=st.sem(gfg_data))"
   ]
  },
  {
   "cell_type": "code",
   "execution_count": null,
   "id": "ddc87269",
   "metadata": {},
   "outputs": [],
   "source": []
  }
 ],
 "metadata": {
  "kernelspec": {
   "display_name": "Python 3 (ipykernel)",
   "language": "python",
   "name": "python3"
  },
  "language_info": {
   "codemirror_mode": {
    "name": "ipython",
    "version": 3
   },
   "file_extension": ".py",
   "mimetype": "text/x-python",
   "name": "python",
   "nbconvert_exporter": "python",
   "pygments_lexer": "ipython3",
   "version": "3.9.7"
  }
 },
 "nbformat": 4,
 "nbformat_minor": 5
}
