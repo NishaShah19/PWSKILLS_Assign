{
 "cells": [
  {
   "cell_type": "markdown",
   "id": "bc24938b",
   "metadata": {},
   "source": [
    "#### Q1. What is the Probability density function?\n",
    "\n",
    "Ans - The Probability Density Function(PDF) defines the probability function representing the density of a continuous random variable lying between a specific range of values. In other words, the probability density function produces the likelihood of values of the continuous random variable. Sometimes it is also called a probability distribution function or just a probability function.\n"
   ]
  },
  {
   "cell_type": "markdown",
   "id": "3d6c7e9b",
   "metadata": {},
   "source": [
    "#### Q2. What are the types of Probability distribution?\n",
    "Ans - Common probability distributions include the binomial distribution, Poisson distribution, and uniform distribution. Certain types of probability distributions are used in hypothesis testing, including the standard normal distribution, the F distribution, and Student’s t distribution."
   ]
  },
  {
   "cell_type": "markdown",
   "id": "bff616fa",
   "metadata": {},
   "source": [
    "#### Q3. Write a Python function to calculate the probability density function of a normal distribution with given mean and standard deviation at a given point."
   ]
  },
  {
   "cell_type": "code",
   "execution_count": 4,
   "id": "9b4387ed",
   "metadata": {},
   "outputs": [
    {
     "name": "stdout",
     "output_type": "stream",
     "text": [
      "0.0804410163156249\n"
     ]
    }
   ],
   "source": [
    "from scipy.stats import norm\n",
    "import numpy as np\n",
    "  \n",
    "data_start = -5\n",
    "data_end = 5\n",
    "data_points = 11\n",
    "data = np.linspace(data_start, data_end, data_points)\n",
    "  \n",
    "mean = np.mean(data)\n",
    "std = np.std(data)\n",
    "  \n",
    "probability_pdf = norm.pdf(3, loc=mean, scale=std)\n",
    "print(probability_pdf)"
   ]
  },
  {
   "cell_type": "markdown",
   "id": "150aa873",
   "metadata": {},
   "source": [
    "#### Q4. What are the properties of Binomial distribution? Give two examples of events where binomial distribution can be applied."
   ]
  },
  {
   "cell_type": "markdown",
   "id": "eec76d8d",
   "metadata": {},
   "source": [
    "- A Bernoulli trial is an experiment that has specifically two possible results: success and failure.\n",
    "- The probability of success(p) and failure(1-p)remain the same for each trial.\n",
    "- The outcome of each trial must be independent of the other, i,e the outcome of one trial does not affect the outcomes of other trials.\n",
    "\n",
    "examples - \n",
    "- By using the yes or no in a survey, we can examine the number of persons who viewed the particular article or test series.\n",
    "- To obtain the number of male and female workers in an organization."
   ]
  },
  {
   "cell_type": "markdown",
   "id": "f24ff1c4",
   "metadata": {},
   "source": [
    "#### Q5. Generate a random sample of size 1000 from a binomial distribution with probability of success 0.4 and plot a histogram of the results using matplotlib."
   ]
  },
  {
   "cell_type": "code",
   "execution_count": 17,
   "id": "e4171767",
   "metadata": {},
   "outputs": [
    {
     "name": "stdout",
     "output_type": "stream",
     "text": [
      "mean = 400.0\n",
      "variance = 240.0\n"
     ]
    },
    {
     "data": {
      "image/png": "[encoded data removed]",
      "text/plain": [
       "<Figure size 432x288 with 1 Axes>"
      ]
     },
     "metadata": {
      "needs_background": "light"
     },
     "output_type": "display_data"
    }
   ],
   "source": [
    "\n",
    "from scipy.stats import binom\n",
    "import matplotlib.pyplot as plt\n",
    "# setting the values\n",
    "# of n and p\n",
    "n = 1000\n",
    "p = 0.4\n",
    "# defining list of r values\n",
    "r_values = list(range(n + 1))\n",
    "# list of pmf values\n",
    "dist = [binom.pmf(r, n, p) for r in r_values ]\n",
    "\n",
    "print(\"mean = \"+str(mean))\n",
    "print(\"variance = \"+str(var))\n",
    "\n",
    "# plotting the graph \n",
    "plt.bar(r_values, dist)\n",
    "plt.show()"
   ]
  },
  {
   "cell_type": "markdown",
   "id": "6ca4ebf5",
   "metadata": {},
   "source": [
    "#### Q6. Write a Python function to calculate the cumulative distribution function of a Poisson distribution with given mean at a given point."
   ]
  },
  {
   "cell_type": "code",
   "execution_count": 20,
   "id": "9442eb63",
   "metadata": {},
   "outputs": [
    {
     "data": {
      "text/plain": [
       "0.10081881344492458"
      ]
     },
     "execution_count": 20,
     "metadata": {},
     "output_type": "execute_result"
    }
   ],
   "source": [
    "from scipy.stats import poisson\n",
    "\n",
    "poisson.pmf(k=5, mu=3)"
   ]
  },
  {
   "cell_type": "code",
   "execution_count": 21,
   "id": "06e39d42",
   "metadata": {},
   "outputs": [
    {
     "data": {
      "text/plain": [
       "(array([0.0485, 0.1478, 0.2309, 0.2191, 0.1689, 0.0998, 0.0527, 0.022 ,\n",
       "        0.0078, 0.0025]),\n",
       " array([ 0.,  1.,  2.,  3.,  4.,  5.,  6.,  7.,  8.,  9., 10.]),\n",
       " <BarContainer object of 10 artists>)"
      ]
     },
     "execution_count": 21,
     "metadata": {},
     "output_type": "execute_result"
    },
    {
     "data": {
      "image/png": "[encoded data removed]",
      "text/plain": [
       "<Figure size 432x288 with 1 Axes>"
      ]
     },
     "metadata": {
      "needs_background": "light"
     },
     "output_type": "display_data"
    }
   ],
   "source": [
    "from scipy.stats import poisson\n",
    "import matplotlib.pyplot as plt\n",
    "\n",
    "#generate Poisson distribution with sample size 10000 , mu=mean\n",
    "x = poisson.rvs(mu=3, size=10000)\n",
    "\n",
    "#create plot of Poisson distribution\n",
    "plt.hist(x, density=True, edgecolor='black')"
   ]
  },
  {
   "cell_type": "markdown",
   "id": "6f693970",
   "metadata": {},
   "source": [
    "#### Q7. How Binomial distribution different from Poisson distribution?\n",
    "\n",
    "Ans - Binomial distribution is the one in which the number of outcomes are only 2 and whereas Poisson distribution is the one in which the number of outcomes are unlimited.For Binomial distribution The probability of success is constant and for Poisson Distribtion the porbability of success is very small.\n",
    "Binomial Distribution - Mean>Variance\n",
    "Poisson Distribution - \tMean=Variance"
   ]
  },
  {
   "cell_type": "markdown",
   "id": "2ee84956",
   "metadata": {},
   "source": [
    "#### Q8. Generate a random sample of size 1000 from a Poisson distribution with mean 5 and calculate the sample mean and variance."
   ]
  },
  {
   "cell_type": "code",
   "execution_count": 30,
   "id": "730aaf93",
   "metadata": {},
   "outputs": [
    {
     "name": "stdout",
     "output_type": "stream",
     "text": [
      "5.008\n",
      "5.365936\n",
      "[ 4  0  4  4  8  4  9 11  8  9  4  3  5  4  3  8  2  4  6  4  3  3  4  3\n",
      "  5  8  4  8  7  7  2  3 11  5  1  5  2  8  6  4  7  6  2  6  7  7  4  4\n",
      "  4  4  2  8  6  4  5  2  4  4  7  8  3  1  6  3  9  1  5 11  4  4  3  7\n",
      "  4  4  1  4  1  2  2  3  4  1  0  5  6  7  3  8  3  3  3  6  5  7  6  5\n",
      "  6  8  5  7  3  5  4  7  6  7  3  9  2  5 14  9  3  6  2  5  9  5  3  2\n",
      "  2  5  4  2  3  9  5  8  6  1  5  4  5  4  5  0  4  2 10  6  2  7 11  2\n",
      "  5  7  3  6  3  3  4  7  4 10  6  6  2  4  9  4  3  4  5  6  1  8 10  2\n",
      "  7  1  3  9  6  2  5  3  3  6  7  2  9  5  7  1  6  6  4  5 10  8  4  8\n",
      "  6  3  5  8  2  5  5  8  7  7  4  8  6  6  5  5  7  8  6  5  4  7  7  7\n",
      "  8  2  5  0 11  5  5  7  4  5  4  3  6  7  6  4  6  5  5  9  5  3  2  5\n",
      "  6  9  2  5  7  6  6  8  4  5  5  6  5  2  3  4  0  0  6  6  6  3  4  4\n",
      "  3  5  2  8  4  9  4  4  3  3  7  9  7  9  8  4  5  3  3  3  9  6  4 10\n",
      "  2  9  3  4  4  6  5  5  3  7  6  6  4  1  5  5  3  3  5  7  3  6  9  2\n",
      "  8  3  3  9  6  4  4  7  6  4  4  5  8  3  7  3  8  3  3  4  5  3  5  6\n",
      "  4  5  4  4  6  5  4  7  6 10  3  5  5  7  4  4  9  7  7  5  2  7  8  7\n",
      "  5  4  5  4  4  5  4  5  3  2  5  6  5  9  5  2  2  4  9  8  2  9  3  3\n",
      "  2  6  5  3  2  5  5  1  3  5  5  5  7  4  5  6  6  2  2  5  7  3  4  6\n",
      "  4 10 12  7  6  8  5  4  5  8  9  7  5  2  4  7  4  5  5  4  6  6  4  5\n",
      "  2  8  6 10  7  2  6  4  6  3  7  3  3  5  5  4  3  8  1  3  7  6  5  7\n",
      "  5  4  6  6  5  2  2  7  7  8  7  9  6  5  8  5  1  8  4  5 11  3  3  3\n",
      "  3  4  5  8  5  7  5  4  2  6  5  4  4  4  1  4  3  5  7  3  3  4  3  4\n",
      "  3  2  4  4  5  4  4 10  6  5  7  3  7  5  5  5  0  8  6  6  6  6  6  7\n",
      "  4  6  7  5  9  5  3  7  4  5  4  5  2  5  3  3  5  4  5  2  4  6  3  3\n",
      "  5  2  2  4  2  6  6  8  4  4  3  6  8  5  6  6  5  7  6  5  8  6  5  5\n",
      "  4  6  2  4  2  5  9  5  7  4  7  3  5  3  5 10  4  9  2  5  4  3  3  3\n",
      "  2  6  5  7  7  2  3  6  1  9  3  5  3  5  7  3  4  2  5  4  6  3  7  7\n",
      "  0  4  5  3  7  4  9  5  7  6  5  2  7  5  4  0  7  7  4  5  7  6  3  7\n",
      "  8  6  6  4  5  8  7  6  2  6  9  6  6  2  3  5  3  7  9  2  7  3  5  4\n",
      "  5  7  9  4  4  5  5  5  2  4  5  7  3  5  2  2  7  6  6  9  8  1  4  4\n",
      "  7  1  7  4  3  2  5  5  2  9  2  7  8  6  2  6  3  5  4  3  2  6  6  5\n",
      "  5  5  3  9  7  7  9  1  5  2  4 12 10 10  7  6  3  4  8  4  7  6  7  9\n",
      "  3  3  6  8  5  5  2  2  3  7  7  5  4  7  2  3  8  7 11  6  5  2  6  2\n",
      "  6  7  3  5  5  3 10  5  6  4  4  4  3  8 12  6  9  5  3  3 10  5  3  4\n",
      "  3  1  0  5  8  6  5  9  4  3 10  5  1  4  8  2  7  4  2  2  4  2  1  4\n",
      "  6  5  7  5  4 12  4  5  5  6  7  9  4  7  1  4  8  6  4  3  5  4  6  8\n",
      "  6  7  2 10  4  3  3  8  5 11  4 16  1  5  1  5  3  1  7  2  4  3  3  2\n",
      "  5  5  6  6  2  8  4  3  4  2  2  5  6  3  3  5  7  6  3  5  5  4  5  7\n",
      "  8  1  6  4  5  5  1  7  5  6  3  5  3  5  6  3  3 12  2  2  6  1  7  7\n",
      "  5  4  8  6  4  3  4  1  8  3  4  5  1  5  2  9  1  6  6  5  8  4  3  6\n",
      "  3  4  6  6  6  4  9  8  3  7  4  0  4  7  5  7  9  8  3  7  5  3  9  6\n",
      "  6  4  3  5  6  4  2  4  6  1  4  2  7  6  7  3  7  5  5  3  1  3  9  4\n",
      "  6  6 11  3  6  1  4  7  5  3  4  6  3  6  7  3]\n"
     ]
    }
   ],
   "source": [
    "from scipy.stats import poisson\n",
    "import matplotlib.pyplot as plt\n",
    "import numpy as np\n",
    "\n",
    "#generate Poisson distribution with sample size 10000 , mu=mean\n",
    "x = poisson.rvs(mu=5, size=1000)\n",
    "\n",
    "print(np.mean(x))\n",
    "print(np.var(x))\n",
    "print(x)"
   ]
  },
  {
   "cell_type": "markdown",
   "id": "859b4e42",
   "metadata": {},
   "source": [
    "#### Q9. How mean and variance are related in Binomial distribution and Poisson distribution?\n",
    "\n",
    "Ans - In binomial distribution Mean > Variance while in poisson distribution mean = variance."
   ]
  },
  {
   "cell_type": "markdown",
   "id": "c54cb70f",
   "metadata": {},
   "source": [
    "#### Q10. In normal distribution with respect to mean position, where does the least frequent data appear?    \n",
    "Ans - Least frequent data appears far away from the mean"
   ]
  },
  {
   "cell_type": "code",
   "execution_count": null,
   "id": "2f23cac8",
   "metadata": {},
   "outputs": [],
   "source": []
  }
 ],
 "metadata": {
  "kernelspec": {
   "display_name": "Python 3 (ipykernel)",
   "language": "python",
   "name": "python3"
  },
  "language_info": {
   "codemirror_mode": {
    "name": "ipython",
    "version": 3
   },
   "file_extension": ".py",
   "mimetype": "text/x-python",
   "name": "python",
   "nbconvert_exporter": "python",
   "pygments_lexer": "ipython3",
   "version": "3.9.7"
  }
 },
 "nbformat": 4,
 "nbformat_minor": 5
}
