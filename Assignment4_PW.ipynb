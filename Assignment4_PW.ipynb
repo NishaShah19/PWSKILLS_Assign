{
 "cells": [
  {
   "cell_type": "markdown",
   "id": "db5f2caa",
   "metadata": {},
   "source": [
    "## Assignment 4"
   ]
  },
  {
   "cell_type": "markdown",
   "id": "3c5c8d4f",
   "metadata": {},
   "source": [
    "#### Q1, Create a vehicle class with an init method having instance variables as name_of_vehicle, max_speed and average_of_vehicle."
   ]
  },
  {
   "cell_type": "code",
   "execution_count": 36,
   "id": "12a3f0e4",
   "metadata": {},
   "outputs": [],
   "source": [
    "class vehicle:\n",
    "    def __init__(self, name_of_vehicle , max_speed , avg_of_vehicle):\n",
    "        self.name_of_vehicle = name_of_vehicle\n",
    "        self.max_speed = max_speed\n",
    "        self.avg_of_vehicle = avg_of_vehicle\n",
    "        \n",
    "    def return_details(self):\n",
    "        return self.name_of_vehicle , self.max_speed , self.avg_of_vehicle\n",
    "    "
   ]
  },
  {
   "cell_type": "code",
   "execution_count": 37,
   "id": "8377b841",
   "metadata": {},
   "outputs": [],
   "source": [
    "vehicle1 = vehicle(\"Mercedes\" , 200 , 250)"
   ]
  },
  {
   "cell_type": "code",
   "execution_count": 38,
   "id": "7054426d",
   "metadata": {},
   "outputs": [
    {
     "data": {
      "text/plain": [
       "250"
      ]
     },
     "execution_count": 38,
     "metadata": {},
     "output_type": "execute_result"
    }
   ],
   "source": [
    "vehicle1.avg_of_vehicle"
   ]
  },
  {
   "cell_type": "code",
   "execution_count": 40,
   "id": "6d5b3f4d",
   "metadata": {},
   "outputs": [
    {
     "data": {
      "text/plain": [
       "('Mercedes', 200, 250)"
      ]
     },
     "execution_count": 40,
     "metadata": {},
     "output_type": "execute_result"
    }
   ],
   "source": [
    "vehicle1.return_details()"
   ]
  },
  {
   "cell_type": "markdown",
   "id": "f31fb316",
   "metadata": {},
   "source": [
    "#### Q2. Create a child class car from the vehicle class created in Que 1, which will inherit the vehicle class.Create a method named seating_capacity which takes capacity as an argument and returns the name of the vehicle and its seating capacity."
   ]
  },
  {
   "cell_type": "code",
   "execution_count": 47,
   "id": "4d05c258",
   "metadata": {},
   "outputs": [],
   "source": [
    "class car(vehicle):\n",
    "    def __init__(self,seating_capacity):\n",
    "        self.seating_capacity = seating_capacity\n",
    "        \n",
    "    def return_details(self):\n",
    "        return self.name_of_vehicle,self.seating_capacity"
   ]
  },
  {
   "cell_type": "code",
   "execution_count": 51,
   "id": "47da8322",
   "metadata": {},
   "outputs": [],
   "source": [
    "car1 = vehicle(\"Mercedes\" , 5 ,250)\n"
   ]
  },
  {
   "cell_type": "markdown",
   "id": "ca139473",
   "metadata": {},
   "source": [
    "#### Q3. What is multiple inheritance? Write a python code to demonstrate multiple inheritance."
   ]
  },
  {
   "cell_type": "code",
   "execution_count": null,
   "id": "fe152614",
   "metadata": {},
   "outputs": [],
   "source": [
    "#When a class is derived from more than one base class it is called multiple Inheritance. The derived class inherits all the features of the base case.\n"
   ]
  },
  {
   "cell_type": "code",
   "execution_count": 52,
   "id": "a7e16076",
   "metadata": {},
   "outputs": [],
   "source": [
    "class food:\n",
    "    def chinese(self):\n",
    "        print(\"Noodles\")\n",
    "\n",
    "class food2:\n",
    "    def italian(self):\n",
    "        print(\"Pasta\")\n",
    "        \n",
    "class food3(food , food2):\n",
    "    pass\n",
    "        "
   ]
  },
  {
   "cell_type": "code",
   "execution_count": 53,
   "id": "d0755837",
   "metadata": {},
   "outputs": [
    {
     "name": "stdout",
     "output_type": "stream",
     "text": [
      "Noodles\n"
     ]
    }
   ],
   "source": [
    "obj_food3=food3()\n",
    "obj_food3.chinese()\n"
   ]
  },
  {
   "cell_type": "code",
   "execution_count": 54,
   "id": "20abd85d",
   "metadata": {},
   "outputs": [
    {
     "name": "stdout",
     "output_type": "stream",
     "text": [
      "Pasta\n"
     ]
    }
   ],
   "source": [
    "obj_food3.italian()"
   ]
  },
  {
   "cell_type": "markdown",
   "id": "9c3e3583",
   "metadata": {},
   "source": [
    "#### Q4. What are getter and setter in python? Create a class and create a getter and a setter method in this class.\n",
    "\n",
    "Getter: A method that allows you to access an attribute in a given class\n",
    "Setter: A method that allows you to set or mutate the value of an attribute in a class"
   ]
  },
  {
   "cell_type": "code",
   "execution_count": 65,
   "id": "f4302881",
   "metadata": {},
   "outputs": [],
   "source": [
    "class year_graduated:\n",
    "    def __init__(self, year):\n",
    "        self.__year = year\n",
    "#getter method       \n",
    "    @property\n",
    "    def get_year(self):\n",
    "            return self.__year\n",
    "\n",
    "# setter method\n",
    "    @get_year.setter\n",
    "    def set_year(self, a):\n",
    "        self._year = a"
   ]
  },
  {
   "cell_type": "markdown",
   "id": "0bfc6ace",
   "metadata": {},
   "source": [
    "### Q5.What is method overriding in python? Write a python code to demonstrate method overriding.\n",
    "allows a subclass or child class to provide a specific implementation of a method that is already provided by one of its super-classes or parent classes."
   ]
  },
  {
   "cell_type": "code",
   "execution_count": 66,
   "id": "dd07c72b",
   "metadata": {},
   "outputs": [
    {
     "name": "stdout",
     "output_type": "stream",
     "text": [
      "Inside Parent\n",
      "Inside Child\n"
     ]
    }
   ],
   "source": [
    "class Parent():\n",
    "      \n",
    "    # Constructor\n",
    "    def __init__(self):\n",
    "        self.value = \"Inside Parent\"\n",
    "          \n",
    "    # Parent's show method\n",
    "    def show(self):\n",
    "        print(self.value)\n",
    "          \n",
    "# Defining child class\n",
    "class Child(Parent):\n",
    "      \n",
    "    # Constructor\n",
    "    def __init__(self):\n",
    "        self.value = \"Inside Child\"\n",
    "          \n",
    "    # Child's show method\n",
    "    def show(self):\n",
    "        print(self.value)\n",
    "          \n",
    "          \n",
    "# Driver's code\n",
    "obj1 = Parent()\n",
    "obj2 = Child()\n",
    "  \n",
    "obj1.show()\n",
    "obj2.show()"
   ]
  },
  {
   "cell_type": "code",
   "execution_count": null,
   "id": "b83c00f2",
   "metadata": {},
   "outputs": [],
   "source": []
  }
 ],
 "metadata": {
  "kernelspec": {
   "display_name": "Python 3 (ipykernel)",
   "language": "python",
   "name": "python3"
  },
  "language_info": {
   "codemirror_mode": {
    "name": "ipython",
    "version": 3
   },
   "file_extension": ".py",
   "mimetype": "text/x-python",
   "name": "python",
   "nbconvert_exporter": "python",
   "pygments_lexer": "ipython3",
   "version": "3.9.7"
  }
 },
 "nbformat": 4,
 "nbformat_minor": 5
}
