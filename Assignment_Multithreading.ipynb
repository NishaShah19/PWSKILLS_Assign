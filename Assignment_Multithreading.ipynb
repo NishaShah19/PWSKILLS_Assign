{
 "cells": [
  {
   "cell_type": "markdown",
   "id": "2037cda6",
   "metadata": {},
   "source": [
    "# Assignment_Multithreading"
   ]
  },
  {
   "cell_type": "markdown",
   "id": "f1ddf86b",
   "metadata": {},
   "source": [
    "Q1. What is multithreading in python? Why is it used? Name the module used to handle threads in python\n",
    "\n",
    "- Multithreading (sometimes simply “threading”) is when a program creates multiple threads with execution cycling among them, so one longer-running task doesn't block all the others. This works well for tasks that can be broken down into smaller subtasks, which can then each be given to a thread to be completed.\n",
    "- Multithreading in Python is a popular technique that enables multiple tasks to be executed simultaneously. In simple words, the ability of a processor to execute multiple threads simultaneously is known as multithreading.\n",
    "\n",
    "- Python multithreading facilitates sharing data space and resources of multiple threads with the main thread. It allows efficient and easy communication between the threads.\n",
    "\n",
    "If you wish to break down your tasks and applications into multiple sub-tasks and then execute them simultaneously, then multithreading in Python is your best bet.\n",
    "\n",
    "All important aspects such as performance, rendering, speed and time consumption will drastically be improved by using proper Python multithreading.\n",
    "\n",
    "Multithreading in Python should be used only when there is no existing inter-dependency between the threads.\n",
    "\n",
    "The threading module\n",
    "The threading module is a high-level implementation of multithreading used to deploy an application in Python. To use multithreading, we need to import the threading module in Python Program. A start() method is used to initiate the activity of a thread."
   ]
  },
  {
   "cell_type": "markdown",
   "id": "53c82136",
   "metadata": {},
   "source": [
    "Q2. Why threading module used? Write the use of the following functions\n",
    "( activeCount\n",
    " currentThread\n",
    " enumerate)\n",
    " \n",
    "- The threading module allows multiple threads of execution to take place in a Python program. While threads may appear to run simultaneously, only one thread can be executed at a time. This is enforced by Python's global interpreter lock. Threading is helpful when working with tasks that are I/O bound.\n",
    "\n",
    "- ActiveCount - the method threading.active_co unt() from the threading module is used to count the currently active or running threads.\n",
    "\n",
    "- threading.activeCount() − Returns the number of thread objects that are active.\n",
    "- threading.currentThread() − Returns the number of thread objects in the caller's thread control.\n",
    "- threading.enumerate() − Returns a list of all thread objects that are currently active. "
   ]
  },
  {
   "cell_type": "markdown",
   "id": "9aefcbfa",
   "metadata": {},
   "source": [
    "Q3. Explain the following functions\n",
    "( run\n",
    " start\n",
    " join\n",
    "' isAlive)\n",
    "\n",
    "- run() − The run() method is the entry point for a thread.\n",
    "- start() − The start() method starts a thread by calling the run method.\n",
    "- join([time]) − The join() waits for threads to terminate.\n",
    "- isAlive() − The isAlive() method checks whether a thread is still executing."
   ]
  },
  {
   "cell_type": "markdown",
   "id": "70b5b5c4",
   "metadata": {},
   "source": [
    "Q4. Write a python program to create two threads. Thread one must print the list of squares and thread\n",
    "two must print the list of cubes"
   ]
  },
  {
   "cell_type": "code",
   "execution_count": 1,
   "id": "c77eb816",
   "metadata": {},
   "outputs": [
    {
     "name": "stdout",
     "output_type": "stream",
     "text": [
      "Square: 100\n",
      "Cube: 1000\n",
      "Done!\n"
     ]
    }
   ],
   "source": [
    "import threading\n",
    "\n",
    "\n",
    "def print_cube(num):\n",
    "    print(\"Cube: {}\" .format(num * num * num))\n",
    "\n",
    "\n",
    "def print_square(num):\n",
    "    print(\"Square: {}\" .format(num * num))\n",
    "\n",
    "\n",
    "if __name__ ==\"__main__\":\n",
    "    t1 = threading.Thread(target=print_square, args=(10,))\n",
    "    t2 = threading.Thread(target=print_cube, args=(10,))\n",
    "\n",
    "    t1.start()\n",
    "    t2.start()\n",
    "\n",
    "    t1.join()\n",
    "    t2.join()\n",
    "\n",
    "    print(\"Done!\")"
   ]
  },
  {
   "cell_type": "markdown",
   "id": "9779b442",
   "metadata": {},
   "source": [
    "Q5. State advantages and disadvantages of multithreading\n",
    "\n",
    "- Following are some of the common advantages of multithreading:\n",
    "\n",
    "1. Enhanced performance by decreased development time\n",
    "2. Simplified and streamlined program coding\n",
    "3. Improvised GUI responsiveness\n",
    "4. Simultaneous and parallelized occurrence of tasks\n",
    "5. Better use of cache storage by utilization of resources\n",
    "6. Decreased cost of maintenance\n",
    "7. Better use of CPU resource\n",
    "\n",
    "\n",
    "- Disadvantages : \n",
    "1. Complex debugging and testing processes\n",
    "2. Overhead switching of context\n",
    "3. Increased potential for deadlock occurrence\n",
    "4. Increased difficulty level in writing a program\n",
    "5. Unpredictable results"
   ]
  },
  {
   "cell_type": "markdown",
   "id": "413ce9f8",
   "metadata": {},
   "source": [
    "Q6. Explain deadlocks and race conditions.\n",
    "\n",
    "- deadlock. Two threads hold locks on different resources, each waiting indefinitely for the other to release its lock. \n",
    "- race condition. Two (or more) threads alter the state of a shared resource concurrently, leaving it in an unpredictable state"
   ]
  },
  {
   "cell_type": "code",
   "execution_count": null,
   "id": "436e76a3",
   "metadata": {},
   "outputs": [],
   "source": []
  }
 ],
 "metadata": {
  "kernelspec": {
   "display_name": "Python 3 (ipykernel)",
   "language": "python",
   "name": "python3"
  },
  "language_info": {
   "codemirror_mode": {
    "name": "ipython",
    "version": 3
   },
   "file_extension": ".py",
   "mimetype": "text/x-python",
   "name": "python",
   "nbconvert_exporter": "python",
   "pygments_lexer": "ipython3",
   "version": "3.9.7"
  }
 },
 "nbformat": 4,
 "nbformat_minor": 5
}
