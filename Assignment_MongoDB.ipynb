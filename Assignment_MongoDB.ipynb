{
 "cells": [
  {
   "cell_type": "markdown",
   "id": "6b5b5658",
   "metadata": {},
   "source": [
    "#### Q1. What is MongoDB? Explain non-relational databases in short. In which scenarios it is preferred to use MongoDB over SQL databases?\n",
    "\n",
    "MongoDB is a non-relational document database that provides support for JSON-like storage. The MongoDB database has a flexible data model that enables you to store unstructured data, and it provides full indexing support, and replication with rich and intuitive APIs.\n",
    "A non-relational database is a database that does not use the tabular schema of rows and columns found in most traditional database systems.\n",
    "MongoDB is used to save unstructured data in JSON format. MongoDB does not support advanced analytics and joins like SQL databases support."
   ]
  },
  {
   "cell_type": "markdown",
   "id": "6de43acf",
   "metadata": {},
   "source": [
    "#### Q2. State and Explain the features of MongoDB.\n",
    "- Ad-hoc queries for optimized, real-time analytics. ...MongoDB supports queries that were not known while establishing a structure for the database.\n",
    "- Indexing appropriately for better query executions. ...We can index any field in MongoDB. Creating indexes helps in faster search results. Indexing is possible with any field or key, in a document.\n",
    "- Replication for better data availability and stability. ...replication is a process of, distributing the data on multiple servers and keeping everything synchronized.\n",
    "- Sharding. ...Sharding is the process of database partitioning and spreading across multiple machines, while the replication is the process of making multiple copies of the database. \n",
    "- Load balancing."
   ]
  },
  {
   "cell_type": "markdown",
   "id": "7801498c",
   "metadata": {},
   "source": [
    "#### Q3. Write a code to connect MongoDB to Python. Also, create a database and a collection in MongoDB.\n",
    "\n",
    "import pymongo\n",
    "\n",
    "client = pymongo.MongoClient(\"mongodb+srv://nishashah:<password>@cluster0.mzj5cf9.mongodb.net/?retryWrites=true&w=majority\")\n",
    "    \n",
    "db = client['pwskills']\n",
    "coll_create = db[\"my_record\"]"
   ]
  },
  {
   "cell_type": "markdown",
   "id": "d544bd7d",
   "metadata": {},
   "source": [
    "#### Q4. Using the database and the collection created in question number 3, write a code to insert one record, and insert many records. Use the find() and find_one() methods to print the inserted record.\n",
    "\n",
    "data = {\"name\" :\"Nisha\",\n",
    "        \"class\" : \"data science\",\n",
    "        \"timing\" :\"flexi\"\n",
    "    \n",
    "}\n",
    "coll_create.insert_one(data)\n",
    "for i in coll_create.find({\"name\" : \"Nisha\"}):\n",
    "    print(i)\n",
    "    \n"
   ]
  },
  {
   "cell_type": "markdown",
   "id": "f92beed0",
   "metadata": {},
   "source": [
    "#### Q5. Explain how you can use the find() method to query the MongoDB database. Write a simple code to demonstrate this.\n",
    "\n",
    " find() method is used to fetch a particular data from the table. \n",
    " {\n",
    "           \"_id\" : ObjectId(\"56254d4fdf2222265r4g12ds3d65f\"),\n",
    "           \"name\" : \"Mick\",\n",
    "           \"Course\" : \"btech\",\n",
    "           \"batch_year\" : 2018,\n",
    "           \"language\" : [\"c++\", \"java\", \"python\"],\n",
    "}\n",
    "{\n",
    "           \"_id\" : ObjectId(\"56254d4fdf2222265r4g12ds3d691\"),\n",
    "           \"name\" : \"Zoya\",\n",
    "           \"Course\" : \"BCA\",\n",
    "           \"batch_year\" : 2020,\n",
    "           \"language\" : [\"C#\", \"JavaScript\"],\n",
    "}\n",
    "\n",
    "db.student.find({Course : btech})  "
   ]
  },
  {
   "cell_type": "markdown",
   "id": "0bd27e99",
   "metadata": {},
   "source": [
    "#### Q6. Explain the sort() method. Give an example to demonstrate sorting in MongoDB.\n",
    "The sort() method specifies the order in which the query returns the matching documents from the given collection. You must apply this method to the cursor before retrieving any documents from the database\n",
    "\n",
    "db.student.find().sort({batch_year:2018})\n"
   ]
  },
  {
   "cell_type": "markdown",
   "id": "1b075ad1",
   "metadata": {},
   "source": [
    "#### Q7. Explain why delete_one(), delete_many(), and drop() is used.\n",
    "\n",
    "Delete_many() is used when one needs to delete more than one document. A query object containing which document to be deleted is created and is passed as the first parameter to the delete_many().\n",
    "\n",
    "Delete_one() a single document can be deleted by the method delete_one(). The first parameter of the method would be a query object which defines the document to be deleted. If there are multiple documents matching the filter query, only the first appeared document would be deleted. \n",
    "\n",
    "drop() method is used to drop a collection from a database. It completely removes a collection from the database "
   ]
  },
  {
   "cell_type": "code",
   "execution_count": null,
   "id": "ba616418",
   "metadata": {},
   "outputs": [],
   "source": []
  }
 ],
 "metadata": {
  "kernelspec": {
   "display_name": "Python 3 (ipykernel)",
   "language": "python",
   "name": "python3"
  },
  "language_info": {
   "codemirror_mode": {
    "name": "ipython",
    "version": 3
   },
   "file_extension": ".py",
   "mimetype": "text/x-python",
   "name": "python",
   "nbconvert_exporter": "python",
   "pygments_lexer": "ipython3",
   "version": "3.9.7"
  }
 },
 "nbformat": 4,
 "nbformat_minor": 5
}
