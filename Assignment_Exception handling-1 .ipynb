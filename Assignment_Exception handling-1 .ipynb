{
 "cells": [
  {
   "cell_type": "markdown",
   "id": "295475a7",
   "metadata": {},
   "source": [
    "# Assignment_Exception handling-1 "
   ]
  },
  {
   "cell_type": "markdown",
   "id": "e8097938",
   "metadata": {},
   "source": [
    "Q1. What is an Exception in python? Write the difference between Exceptions and Syntax errors\n",
    "- An Exception is an error that happens during the execution of a program. Whenever there is an error, Python generates an exception that could be handled. It basically prevents the program from getting crashed.\n",
    "- Python raises exceptions for issues like dividing by zero or missing files. By using try-except blocks, programmers can catch and handle these exceptions, allowing the program to continue smoothly. Common Errors: Syntax Errors: These occur when the Python parser detects a syntactical issue in the code"
   ]
  },
  {
   "cell_type": "markdown",
   "id": "5acabba8",
   "metadata": {},
   "source": [
    "Q2. What happens when an exception is not handled? Explain with an example.\n",
    "- If an exception occurs which does not match the exception named in the except clause, it is passed on to outer try statements; if no handler is found, it is an unhandled exception and execution stops with an error message"
   ]
  },
  {
   "cell_type": "markdown",
   "id": "99d660e4",
   "metadata": {},
   "source": [
    "Q3. Which Python statements are used to catch and handle exceptions? Explain with an example\n",
    "\n",
    "- Try and except statements are used to catch and handle exceptions in Python. Statements that can raise exceptions are kept inside the try clause and the statements that handle the exception are written inside except clause"
   ]
  },
  {
   "cell_type": "markdown",
   "id": "7c054e0f",
   "metadata": {},
   "source": [
    "Q4. Explain with an example:\n",
    "\n",
    "a.try and else - The try block lets you test a block of code for errors.\n",
    "The else block lets you execute code when there is no error.\n",
    "\n",
    "b.finally - The finally block lets you execute code, regardless of the result of the try- and except blocks.\n",
    "\n",
    "c.raise - To throw (or raise) an exception, use the raise keyword.raise keyword is used to raise an exception.\n",
    "\n",
    "You can define what kind of error to raise, and the text to print to the user."
   ]
  },
  {
   "cell_type": "markdown",
   "id": "d1640048",
   "metadata": {},
   "source": [
    "Q5. What are Custom Exceptions in python? Why do we need Custom Exceptions? Explain with an example\n",
    "\n",
    "- Custom exceptions are helpful in many situations. They allow you to define your own error conditions and handle them in a more specific and meaningful way. For example, let's say you are writing a program that reads data from a file. If the file is not found, Python will raise a FileNotFoundError"
   ]
  },
  {
   "cell_type": "markdown",
   "id": "b8fc5ea2",
   "metadata": {},
   "source": [
    "Q6. Create custom exception class. Use this class to handle an exception.\n",
    "\n",
    "- class CustomError(Exception):\n",
    "    pass\n",
    "\n",
    "raise CustomError(\"Example of Custom Exceptions in Python\")\n",
    "\n",
    "Output: CustomError: Example of Custom Exceptions in Python"
   ]
  },
  {
   "cell_type": "code",
   "execution_count": null,
   "id": "4ae9e861",
   "metadata": {},
   "outputs": [],
   "source": []
  }
 ],
 "metadata": {
  "kernelspec": {
   "display_name": "Python 3 (ipykernel)",
   "language": "python",
   "name": "python3"
  },
  "language_info": {
   "codemirror_mode": {
    "name": "ipython",
    "version": 3
   },
   "file_extension": ".py",
   "mimetype": "text/x-python",
   "name": "python",
   "nbconvert_exporter": "python",
   "pygments_lexer": "ipython3",
   "version": "3.9.7"
  }
 },
 "nbformat": 4,
 "nbformat_minor": 5
}
