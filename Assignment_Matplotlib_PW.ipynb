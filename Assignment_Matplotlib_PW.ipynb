{
 "cells": [
  {
   "cell_type": "markdown",
   "id": "50c60142",
   "metadata": {},
   "source": [
    "#### Q1: What is Matplotlib? Why is it used? Name five plots that can be plotted using the Pyplot module of Matplotlib."
   ]
  },
  {
   "cell_type": "markdown",
   "id": "93b0d4f0",
   "metadata": {},
   "source": [
    "Matplotlib is a comprehensive library for creating static, animated, and interactive visualizations in Python. Matplotlib makes easy things easy and hard things possible. Create publication quality plots. Make interactive figures that can zoom, pan, update. it allows users to create numerous and diverse plot types. \n",
    "It can create line graphs, scatter plots, histograms, bar charts, error charts, pie charts, box plots, and many other visualization styles."
   ]
  },
  {
   "cell_type": "markdown",
   "id": "8937751b",
   "metadata": {},
   "source": [
    "#### Q2: What is a scatter plot? Use the following code to generate data for x and y. Using this generated data plot a scatter plot.\n",
    "\n",
    "A scatter plot is a diagram where each value in the data set is represented by a dot."
   ]
  },
  {
   "cell_type": "code",
   "execution_count": 12,
   "id": "8b7a142b",
   "metadata": {},
   "outputs": [],
   "source": [
    "import matplotlib.pyplot as plt\n",
    "import numpy as np\n",
    "np.random.seed(3)\n",
    "x = 3 + np.random.normal(0, 2, 50)\n",
    "y = 3 + np.random.normal(0, 2, len(x))"
   ]
  },
  {
   "cell_type": "code",
   "execution_count": 13,
   "id": "8349e7c8",
   "metadata": {},
   "outputs": [
    {
     "data": {
      "text/plain": [
       "array([ 6.57725695,  3.8730197 ,  3.19299494, -0.72698541,  2.44522359,\n",
       "        2.29048204,  2.83451704,  1.74599865,  2.91236366,  2.04556394,\n",
       "        0.37227049,  4.76924476,  4.76263608,  6.41914613,  3.10006728,\n",
       "        2.19064517,  1.9092801 , -0.09295463,  4.96473487,  0.79786474,\n",
       "        0.62990695,  2.5887002 ,  5.97229671,  3.47343253,  0.95242972,\n",
       "        1.5740136 ,  4.25048993,  2.67897327,  1.4623273 ,  2.53993856,\n",
       "        4.49011253,  6.95222157,  0.51175334,  1.74716618,  1.39246781,\n",
       "       -1.83816635,  1.15241596,  0.95224848,  5.24795592,  2.73617153,\n",
       "       -0.24657089,  4.2933509 ,  2.28745848, -0.48628207,  1.80670072,\n",
       "        1.82281124,  1.2522354 ,  3.05942763, -1.49651554,  2.46447627])"
      ]
     },
     "execution_count": 13,
     "metadata": {},
     "output_type": "execute_result"
    }
   ],
   "source": [
    "x"
   ]
  },
  {
   "cell_type": "code",
   "execution_count": 14,
   "id": "f0297cb3",
   "metadata": {},
   "outputs": [
    {
     "data": {
      "text/plain": [
       "array([ 5.02636688,  4.70559568,  5.216375  ,  5.23878131,  5.97508626,\n",
       "        0.76339863,  4.69166681, -0.72177906,  1.79422979, -0.82894409,\n",
       "        5.09629502,  5.66747564,  2.60517064,  6.54929006,  1.65054498,\n",
       "        3.30123373,  3.30589141,  0.87160945,  3.87589322,  6.87795692,\n",
       "        0.95013825,  4.79867689,  2.6909863 ,  6.53925461,  3.9675767 ,\n",
       "        4.3524328 ,  4.28632656,  3.49817341,  0.20847299,  5.78332582,\n",
       "        0.25866197,  3.47712638,  4.22815418,  1.32417545,  3.29012643,\n",
       "        5.33576457,  2.95179106,  1.22268516, -2.8314755 ,  1.05631899,\n",
       "        1.81784252,  1.96716526,  1.08000764,  3.75459047,  1.85058316,\n",
       "        2.78109133,  4.3581432 ,  1.28912566,  2.39958785,  7.31629868])"
      ]
     },
     "execution_count": 14,
     "metadata": {},
     "output_type": "execute_result"
    }
   ],
   "source": [
    "y"
   ]
  },
  {
   "cell_type": "code",
   "execution_count": 18,
   "id": "6fb042ed",
   "metadata": {},
   "outputs": [
    {
     "data": {
      "text/plain": [
       "<matplotlib.collections.PathCollection at 0x1c00d9a77c0>"
      ]
     },
     "execution_count": 18,
     "metadata": {},
     "output_type": "execute_result"
    },
    {
     "data": {
      "image/png": "[encoded data removed]",
      "text/plain": [
       "<Figure size 432x288 with 1 Axes>"
      ]
     },
     "metadata": {
      "needs_background": "light"
     },
     "output_type": "display_data"
    }
   ],
   "source": [
    "plt.scatter(x,y)"
   ]
  },
  {
   "cell_type": "code",
   "execution_count": 22,
   "id": "111149fc",
   "metadata": {},
   "outputs": [
    {
     "data": {
      "image/png": "[encoded data removed]",
      "text/plain": [
       "<Figure size 432x144 with 1 Axes>"
      ]
     },
     "metadata": {
      "needs_background": "light"
     },
     "output_type": "display_data"
    }
   ],
   "source": [
    "plt.figure(figsize=(6,2))          #Size of graph\n",
    "\n",
    "plt.scatter(x,y, c = 'g' , alpha = 0.5 , marker= 'X')            #alpha = intensity of dots\n",
    "\n",
    "plt.title(\"This is random data\")\n",
    "plt.grid()\n",
    "\n"
   ]
  },
  {
   "cell_type": "markdown",
   "id": "5fe2f890",
   "metadata": {},
   "source": [
    "#### Q3: Why is the subplot() function used? Draw four line plots using the subplot() function.\n",
    "##### Use the following data:\n",
    "The subplot() function in MATLAB allows you to insert multiple plots on a grid within a single figure."
   ]
  },
  {
   "cell_type": "code",
   "execution_count": 43,
   "id": "2030cf17",
   "metadata": {},
   "outputs": [],
   "source": [
    "import numpy as np\n",
    "\n",
    "x = np.array([0, 1, 2, 3, 4, 5]) \n",
    "y = np.array([0, 100, 200, 300, 400, 500])\n",
    "x = np.array([0, 1, 2, 3, 4, 5]) \n",
    "y = np.array([50, 20, 40, 20, 60, 70])\n",
    "x = np.array([0, 1, 2, 3, 4, 5])\n",
    "y = np.array([10, 20, 30, 40, 50, 60])\n",
    "x = np.array([0, 1, 2, 3, 4, 5])\n",
    "y = np.array([200, 350, 250, 550, 450, 150])"
   ]
  },
  {
   "cell_type": "code",
   "execution_count": 44,
   "id": "22e72364",
   "metadata": {},
   "outputs": [
    {
     "data": {
      "text/plain": [
       "[<matplotlib.lines.Line2D at 0x1c00da78910>]"
      ]
     },
     "execution_count": 44,
     "metadata": {},
     "output_type": "execute_result"
    },
    {
     "data": {
      "image/png": "[encoded data removed]",
      "text/plain": [
       "<Figure size 432x288 with 1 Axes>"
      ]
     },
     "metadata": {
      "needs_background": "light"
     },
     "output_type": "display_data"
    }
   ],
   "source": [
    "plt.subplot(2,1,1)\n",
    "plt.plot(x,y)\n"
   ]
  },
  {
   "cell_type": "markdown",
   "id": "219c6608",
   "metadata": {},
   "source": [
    "#### Q4: What is a bar plot? Why is it used? Using the following data plot a bar plot and a horizontal bar plot.\n",
    "\n",
    "Bar plots are a type of data visualization used to represent data in the form of rectangular bars.A bar chart is used when you want to show a distribution of data points or perform a comparison of metric values across different subgroups of your data."
   ]
  },
  {
   "cell_type": "code",
   "execution_count": 10,
   "id": "7c8335cc",
   "metadata": {},
   "outputs": [],
   "source": [
    "import numpy as np\n",
    "import matplotlib.pyplot as plt\n",
    "company = np.array([\"Apple\", \"Microsoft\", \"Google\", \"AMD\"])\n",
    "profit = np.array([3000, 8000, 1000, 10000])"
   ]
  },
  {
   "cell_type": "code",
   "execution_count": 11,
   "id": "f5b39c47",
   "metadata": {},
   "outputs": [
    {
     "data": {
      "text/plain": [
       "Text(0.5, 1.0, 'This is bar plot')"
      ]
     },
     "execution_count": 11,
     "metadata": {},
     "output_type": "execute_result"
    },
    {
     "data": {
      "image/png": "[encoded data removed]",
      "text/plain": [
       "<Figure size 360x216 with 1 Axes>"
      ]
     },
     "metadata": {
      "needs_background": "light"
     },
     "output_type": "display_data"
    }
   ],
   "source": [
    "plt.figure(figsize=(5,3))\n",
    "plt.bar(company,profit)\n",
    "\n",
    "plt.xlabel(\"Company name\")\n",
    "plt.ylabel(\"Profit\")\n",
    "\n",
    "plt.title(\"This is bar plot\")"
   ]
  },
  {
   "cell_type": "code",
   "execution_count": 12,
   "id": "b048afd6",
   "metadata": {},
   "outputs": [
    {
     "data": {
      "text/plain": [
       "Text(0.5, 1.0, 'This is bar plot')"
      ]
     },
     "execution_count": 12,
     "metadata": {},
     "output_type": "execute_result"
    },
    {
     "data": {
      "image/png": "[encoded data removed]",
      "text/plain": [
       "<Figure size 360x216 with 1 Axes>"
      ]
     },
     "metadata": {
      "needs_background": "light"
     },
     "output_type": "display_data"
    }
   ],
   "source": [
    "plt.figure(figsize=(5,3))\n",
    "plt.barh(company,profit)\n",
    "\n",
    "plt.xlabel(\"Profit\")\n",
    "plt.ylabel(\"Company name\")\n",
    "\n",
    "plt.title(\"This is bar plot\")"
   ]
  },
  {
   "cell_type": "markdown",
   "id": "4ac1e146",
   "metadata": {},
   "source": [
    "#### Q5: What is a box plot? Why is it used? Using the following data plot a box plot.\n",
    "\n",
    "A box plot—displays the five-number summary of a set of data. The five-number summary is the minimum, first quartile, median, third quartile, and maximum. In a box plot, we draw a box from the first quartile to the third quartile. A vertical line goes through the box at the median.Box plots are used to show distributions of numeric data values, especially when you want to compare them between multiple groups. "
   ]
  },
  {
   "cell_type": "code",
   "execution_count": 30,
   "id": "dd95eedf",
   "metadata": {},
   "outputs": [],
   "source": [
    "import numpy as np\n",
    "import matplotlib.pyplot as plt\n",
    "\n",
    "\n",
    "box1 = np.random.normal(100, 10, 200)\n",
    "box2 = np.random.normal(90, 20, 200)\n",
    "box = [box1 ,box2]"
   ]
  },
  {
   "cell_type": "code",
   "execution_count": 33,
   "id": "44158d47",
   "metadata": {},
   "outputs": [
    {
     "data": {
      "image/png": "[encoded data removed]",
      "text/plain": [
       "<Figure size 792x360 with 1 Axes>"
      ]
     },
     "metadata": {
      "needs_background": "light"
     },
     "output_type": "display_data"
    }
   ],
   "source": [
    "fig = plt.figure(figsize =(11, 5))\n",
    "plt.boxplot(box)\n",
    "\n",
    "plt.show()"
   ]
  },
  {
   "cell_type": "code",
   "execution_count": null,
   "id": "e09c8700",
   "metadata": {},
   "outputs": [],
   "source": []
  }
 ],
 "metadata": {
  "kernelspec": {
   "display_name": "Python 3 (ipykernel)",
   "language": "python",
   "name": "python3"
  },
  "language_info": {
   "codemirror_mode": {
    "name": "ipython",
    "version": 3
   },
   "file_extension": ".py",
   "mimetype": "text/x-python",
   "name": "python",
   "nbconvert_exporter": "python",
   "pygments_lexer": "ipython3",
   "version": "3.9.7"
  }
 },
 "nbformat": 4,
 "nbformat_minor": 5
}
