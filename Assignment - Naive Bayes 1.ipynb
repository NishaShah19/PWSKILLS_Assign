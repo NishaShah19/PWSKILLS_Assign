{
 "cells": [
  {
   "cell_type": "markdown",
   "id": "80859e5a",
   "metadata": {},
   "source": [
    "# Assignment - Naive Bayes 1"
   ]
  },
  {
   "cell_type": "markdown",
   "id": "4beebc47",
   "metadata": {},
   "source": [
    "#### Q1. What is Bayes' theorem?\n",
    "\n",
    "Bayes' theorem is also known as Bayes' Rule or Bayes' law, which is used to determine the probability of a hypothesis with prior knowledge. It depends on the conditional probability.\n",
    "\n",
    "Bayes' Theorem states that the conditional probability of an event, based on the occurrence of another event, is equal to the likelihood of the second event given the first event multiplied by the probability of the first event."
   ]
  },
  {
   "cell_type": "markdown",
   "id": "edb6d17c",
   "metadata": {},
   "source": [
    "#### Q2. What is the formula for Bayes' theorem?\n",
    "\n",
    "P(A|B)=P(B|A)P(A)/P(B)\n",
    "\n",
    "where,\n",
    "P(A|B) is Posterior probability: Probability of hypothesis A on the observed event B.\n",
    "\n",
    "P(B|A) is Likelihood probability: Probability of the evidence given that the probability of a hypothesis is true.\n",
    "\n",
    "P(A) is Prior Probability: Probability of hypothesis before observing the evidence.\n",
    "\n",
    "P(B) is Marginal Probability: Probability of Evidence"
   ]
  },
  {
   "cell_type": "markdown",
   "id": "cc789518",
   "metadata": {},
   "source": [
    "#### Q3. How is Bayes' theorem used in practice?\n",
    "\n",
    "A could mean the event “Patient has liver disease.” Past data tells you that 10% of patients entering your clinic have liver disease. P(A) = 0.10.\n",
    "\n",
    "B could mean the litmus test that “Patient is an alcoholic.” Five percent of the clinic’s patients are alcoholics. \n",
    "P(B) = 0.05.\n",
    "You might also know that among those patients diagnosed with liver disease, 7% are alcoholics. \n",
    "This is your B|A: the probability that a patient is alcoholic, given that they have liver disease, is 7%.\n",
    "\n",
    "Bayes’ theorem tells you:\n",
    "\n",
    "P(A|B) = (0.07 * 0.1)/0.05 = 0.14\n",
    "In other words, if the patient is an alcoholic, their chances of having liver disease is 0.14 (14%). This is a large increase from the 10% suggested by past data. But it’s still unlikely that any particular patient has liver disease."
   ]
  },
  {
   "cell_type": "markdown",
   "id": "1f7cb9dd",
   "metadata": {},
   "source": [
    "#### Q4. What is the relationship between Bayes' theorem and conditional probability?\n",
    "\n",
    "Bayes' theorem is a formula that describes how to update the probabilities of hypotheses when given evidence. It follows simply from the axioms of conditional probability, but can be used to powerfully reason about a wide range of problems involving belief updates."
   ]
  },
  {
   "cell_type": "markdown",
   "id": "3555906d",
   "metadata": {},
   "source": [
    "#### Q5. How do you choose which type of Naive Bayes classifier to use for any given problem?\n",
    "\n",
    "- Bernoulli Naive Bayes is an algorithm that is useful for data that has binary or boolean attributes. The attributes will have a value of yes or no, useful or not, granted or rejected, etc. One application would be text classification with ‘bag of words’ model where the 1s & 0s are “word occurs in the document” and “word does not occur in the document” respectively.\n",
    "\n",
    "- Multinominal Naive Bayes is used on documentation classification issues. The features needed for this type are the frequency of the words converted from the document. It is used for discrete counts. For example, let’s say,  we have a text classification problem. Here we can consider Bernoulli trials which is one step further and instead of “word occurring in the document”, we have “count how often word occurs in the document”, you can think of it as “number of times outcome number x_i is observed over the n trials”.\n",
    "\n",
    "- Gaussian Naive Bayes  The attributes present in the data should follow the rule of Gaussian distribution or normal distribution. gaussiannb is used in classification tasks and it assumes that feature values follow a gaussian distribution.\n",
    "\n",
    "- Complement Naive Bayes: It is an adaptation of Multinomial NB where the complement of each class is used to calculate the model weights. So, this is suitable for imbalanced data sets and often outperforms the MNB on text classification tasks.\n",
    "\n",
    "- Categorical Naive Bayes: Categorical Naive Bayes is useful if the features are categorically distributed. We have to encode the categorical variable in the numeric format using the ordinal encoder for using this algorithm."
   ]
  },
  {
   "cell_type": "markdown",
   "id": "b7d71c84",
   "metadata": {},
   "source": [
    "#### Q6. Assignment: You have a dataset with two features, X1 and X2, and two possible classes, A and B. You want to use Naive Bayes to classify a new instance with features X1 = 3 and X2 = 4. The following table shows the frequency of each feature value for each class: \n",
    "Class X1=1 X1=2 X1=3 X2=1 X2=2 X2=3 X2=4\n",
    "\n",
    "A 3 3 4 4 3 3 3\n",
    "\n",
    "B 2 2 1 2 2 2 3\n",
    "\n",
    "Assuming equal prior probabilities for each class, which class would Naive Bayes predict the new instance\n",
    "to belong to?"
   ]
  },
  {
   "cell_type": "code",
   "execution_count": null,
   "id": "d9ff7a38",
   "metadata": {},
   "outputs": [],
   "source": []
  }
 ],
 "metadata": {
  "kernelspec": {
   "display_name": "Python 3 (ipykernel)",
   "language": "python",
   "name": "python3"
  },
  "language_info": {
   "codemirror_mode": {
    "name": "ipython",
    "version": 3
   },
   "file_extension": ".py",
   "mimetype": "text/x-python",
   "name": "python",
   "nbconvert_exporter": "python",
   "pygments_lexer": "ipython3",
   "version": "3.9.7"
  }
 },
 "nbformat": 4,
 "nbformat_minor": 5
}
