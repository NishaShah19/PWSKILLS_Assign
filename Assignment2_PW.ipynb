{
 "cells": [
  {
   "cell_type": "markdown",
   "id": "05f9d505",
   "metadata": {},
   "source": [
    "## Assignment 2\n"
   ]
  },
  {
   "cell_type": "raw",
   "id": "ed5b0bf6",
   "metadata": {},
   "source": [
    "#Q1. How do you comment code in Python? What are the different types of comments?\n",
    "\n",
    "Code in python can be comment using '#' as well as ''' (text)'''\n",
    "eg. \n"
   ]
  },
  {
   "cell_type": "code",
   "execution_count": 7,
   "id": "22414ae2",
   "metadata": {},
   "outputs": [
    {
     "data": {
      "text/plain": [
       "[1, 4, 9, 16, 25, 36, 49, 64, 81, 100]"
      ]
     },
     "execution_count": 7,
     "metadata": {},
     "output_type": "execute_result"
    }
   ],
   "source": [
    "#This is a comment\n",
    "'''square of all numbers'''\n",
    "\n",
    "lst=[1,2,3,4,5,6,7,8,9,10]\n",
    "\n",
    "[i**2 for i in lst]"
   ]
  },
  {
   "cell_type": "code",
   "execution_count": 9,
   "id": "cd3c395a",
   "metadata": {},
   "outputs": [
    {
     "name": "stdout",
     "output_type": "stream",
     "text": [
      "35\n"
     ]
    }
   ],
   "source": [
    "#Q2. What are variables in Python? How do you declare and assign values to variables?\n",
    "\n",
    "##variables are names that points to an object and it stores data values.\n",
    "#eg. take a variable 'a' and assign some values\n",
    "\n",
    "a = 15\n",
    "b = 20\n",
    "c = a+b\n",
    "print(c)"
   ]
  },
  {
   "cell_type": "code",
   "execution_count": 15,
   "id": "a19f17c2",
   "metadata": {},
   "outputs": [
    {
     "data": {
      "text/plain": [
       "int"
      ]
     },
     "execution_count": 15,
     "metadata": {},
     "output_type": "execute_result"
    }
   ],
   "source": [
    "#Q3. How do you convert one data type to another in Python?\n",
    "\n",
    "num1 = 180\n",
    "num2 = 56.33\n",
    "sum = num1+num2\n",
    "type(num1)\n",
    "#type(num2)\n",
    "#print(sum)"
   ]
  },
  {
   "cell_type": "code",
   "execution_count": 16,
   "id": "59313558",
   "metadata": {},
   "outputs": [
    {
     "data": {
      "text/plain": [
       "float"
      ]
     },
     "execution_count": 16,
     "metadata": {},
     "output_type": "execute_result"
    }
   ],
   "source": [
    "type(num2)"
   ]
  },
  {
   "cell_type": "code",
   "execution_count": 17,
   "id": "96988528",
   "metadata": {},
   "outputs": [
    {
     "name": "stdout",
     "output_type": "stream",
     "text": [
      "236.32999999999998\n"
     ]
    }
   ],
   "source": [
    "print(sum)           #Int data type converted to float"
   ]
  },
  {
   "cell_type": "code",
   "execution_count": 31,
   "id": "12ada776",
   "metadata": {},
   "outputs": [
    {
     "name": "stdout",
     "output_type": "stream",
     "text": [
      "data type of: {'123'} <class 'str'>\n",
      "data type of: {34} <class 'int'>\n",
      "sum: 123\n",
      "data type of sum: <class 'int'>\n"
     ]
    }
   ],
   "source": [
    "a = '123'\n",
    "b = 34\n",
    "\n",
    "print(\"data type of:\", {a} ,type(a))\n",
    "print(\"data type of:\",{b} ,type(b))\n",
    "\n",
    "sum = int(a)\n",
    "print(\"sum:\" ,sum)\n",
    "print(\"data type of sum:\" ,type(sum))"
   ]
  },
  {
   "cell_type": "code",
   "execution_count": 33,
   "id": "3a5d3569",
   "metadata": {},
   "outputs": [],
   "source": [
    "#Q4. How do you write and execute a Python script from the command line?\n",
    "\n",
    "#Open command line and type python3 followed by the path , write the python script and click enter to execute the script"
   ]
  },
  {
   "cell_type": "code",
   "execution_count": 34,
   "id": "83cb5967",
   "metadata": {},
   "outputs": [],
   "source": [
    "#Q5. Given a list my_list = [1, 2, 3, 4, 5], write the code to slice the list and obtain the sub-list [2, 3]."
   ]
  },
  {
   "cell_type": "code",
   "execution_count": 39,
   "id": "9a21810d",
   "metadata": {},
   "outputs": [
    {
     "data": {
      "text/plain": [
       "[2, 3]"
      ]
     },
     "execution_count": 39,
     "metadata": {},
     "output_type": "execute_result"
    }
   ],
   "source": [
    "my_list = [1, 2, 3, 4, 5]\n",
    "\n",
    "sub_list = my_list[1:3]\n",
    "sub_list"
   ]
  },
  {
   "cell_type": "code",
   "execution_count": 41,
   "id": "c7c4cbd4",
   "metadata": {},
   "outputs": [
    {
     "data": {
      "text/plain": [
       "(10+4j)"
      ]
     },
     "execution_count": 41,
     "metadata": {},
     "output_type": "execute_result"
    }
   ],
   "source": [
    "#Q6. What is a complex number in mathematics, and how is it represented in Python?\n",
    "\n",
    "#Complex numbers are 2 real rumbers , that is written in the form x+yi , where x and y are real numbers and i is an imaginary number\n",
    "\n",
    "real = 10\n",
    "imaginary = 4\n",
    "complex(real, imaginary)"
   ]
  },
  {
   "cell_type": "code",
   "execution_count": 43,
   "id": "a35be9b2",
   "metadata": {},
   "outputs": [
    {
     "data": {
      "text/plain": [
       "25"
      ]
     },
     "execution_count": 43,
     "metadata": {},
     "output_type": "execute_result"
    }
   ],
   "source": [
    "#Q7. What is the correct way to declare a variable named age and assign the value 25 to it?\n",
    "\n",
    "age = int(25)\n",
    "age"
   ]
  },
  {
   "cell_type": "code",
   "execution_count": 44,
   "id": "42b87129",
   "metadata": {},
   "outputs": [
    {
     "name": "stdout",
     "output_type": "stream",
     "text": [
      "<class 'float'>\n"
     ]
    }
   ],
   "source": [
    "#Q8. Declare a variable named price and assign the value 9.99 to it. What data type does this variable belong to?\n",
    "\n",
    "price = 9.99\n",
    "print(type(price))"
   ]
  },
  {
   "cell_type": "code",
   "execution_count": 45,
   "id": "620adbbc",
   "metadata": {},
   "outputs": [
    {
     "name": "stdout",
     "output_type": "stream",
     "text": [
      "Nisha Shah\n"
     ]
    }
   ],
   "source": [
    "#Q9. Create a variable named name and assign your full name to it as a string. How would you print the value of this variable?\n",
    "\n",
    "name = 'Nisha Shah'\n",
    "print(name)"
   ]
  },
  {
   "cell_type": "code",
   "execution_count": 50,
   "id": "8282623a",
   "metadata": {},
   "outputs": [
    {
     "data": {
      "text/plain": [
       "'World!'"
      ]
     },
     "execution_count": 50,
     "metadata": {},
     "output_type": "execute_result"
    }
   ],
   "source": [
    "# Q10. Given the string \"Hello, World!\", extract the substring \"World\".\n",
    "\n",
    "str1 = \"Hello,World!\"\n",
    "str1[6:]"
   ]
  },
  {
   "cell_type": "code",
   "execution_count": 51,
   "id": "66f81fad",
   "metadata": {},
   "outputs": [
    {
     "name": "stdout",
     "output_type": "stream",
     "text": [
      "True\n"
     ]
    }
   ],
   "source": [
    "#Q11. Create a variable named \"is_student\" and assign it a boolean value indicating whether you are currently a student or not.\n",
    "\n",
    "is_student = True\n",
    "\n",
    "if age >=5:\n",
    "    print(is_student)\n",
    "else:\n",
    "    print(\"You're not a studnet\")"
   ]
  },
  {
   "cell_type": "code",
   "execution_count": null,
   "id": "f4f78e05",
   "metadata": {},
   "outputs": [],
   "source": []
  }
 ],
 "metadata": {
  "kernelspec": {
   "display_name": "Python 3 (ipykernel)",
   "language": "python",
   "name": "python3"
  },
  "language_info": {
   "codemirror_mode": {
    "name": "ipython",
    "version": 3
   },
   "file_extension": ".py",
   "mimetype": "text/x-python",
   "name": "python",
   "nbconvert_exporter": "python",
   "pygments_lexer": "ipython3",
   "version": "3.9.7"
  }
 },
 "nbformat": 4,
 "nbformat_minor": 5
}
