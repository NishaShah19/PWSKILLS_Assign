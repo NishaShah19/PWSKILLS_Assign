{
 "cells": [
  {
   "cell_type": "markdown",
   "id": "24f8baa8",
   "metadata": {},
   "source": [
    "#### Q1. Which keyword is used to create a function? Create a function to return a list of odd numbers in the range of 1 to 25."
   ]
  },
  {
   "cell_type": "code",
   "execution_count": 2,
   "id": "25672a30",
   "metadata": {},
   "outputs": [
    {
     "data": {
      "text/plain": [
       "range(1, 25)"
      ]
     },
     "execution_count": 2,
     "metadata": {},
     "output_type": "execute_result"
    }
   ],
   "source": [
    "#Keyword \" def\" is used to create a function\n",
    "\n",
    "range(1,25)   "
   ]
  },
  {
   "cell_type": "code",
   "execution_count": 7,
   "id": "cbebf6a0",
   "metadata": {},
   "outputs": [
    {
     "name": "stdout",
     "output_type": "stream",
     "text": [
      "[1, 3, 5, 7, 9, 11, 13, 15, 17, 19, 21, 23, 25]\n"
     ]
    }
   ],
   "source": [
    "def odd_numbers(n):\n",
    "  return [x for x in range(n + 1) if x % 2 == 1]\n",
    "print(odd_numbers(25))"
   ]
  },
  {
   "cell_type": "markdown",
   "id": "f7ff5568",
   "metadata": {},
   "source": [
    "#### Q2. Why *args and **kwargs is used in some functions? Create a function each for *args and **kwargs to demonstrate their use.\n",
    "\n",
    "##### args and *kwargs are used in some functions when the number of arguements to pass in a function are not known."
   ]
  },
  {
   "cell_type": "code",
   "execution_count": 16,
   "id": "1ea13b76",
   "metadata": {},
   "outputs": [],
   "source": [
    "##Args\n",
    "\n",
    "def test(*args):\n",
    "    l= []\n",
    "    for i in args:\n",
    "        if i>=0:\n",
    "            l.append(i)\n",
    "    return l"
   ]
  },
  {
   "cell_type": "code",
   "execution_count": 17,
   "id": "51171ea2",
   "metadata": {},
   "outputs": [
    {
     "data": {
      "text/plain": [
       "[0, 8, 7]"
      ]
     },
     "execution_count": 17,
     "metadata": {},
     "output_type": "execute_result"
    }
   ],
   "source": [
    "test(-1,0,8,-4,7)"
   ]
  },
  {
   "cell_type": "code",
   "execution_count": 22,
   "id": "848e8a71",
   "metadata": {},
   "outputs": [],
   "source": [
    "## kwargs\n",
    "\n",
    "def exam(**kwargs):             ##kwargs -- key and value pair\n",
    "    for i in kwargs.keys():\n",
    "        if type(kwargs[i]) == list:\n",
    "            return i , kwargs[i]"
   ]
  },
  {
   "cell_type": "code",
   "execution_count": 24,
   "id": "e99981ed",
   "metadata": {},
   "outputs": [
    {
     "data": {
      "text/plain": [
       "('c', [1, 2, 3, 4])"
      ]
     },
     "execution_count": 24,
     "metadata": {},
     "output_type": "execute_result"
    }
   ],
   "source": [
    "exam(a=2 , b =3 , c = [1,2,3,4])"
   ]
  },
  {
   "cell_type": "markdown",
   "id": "5068519e",
   "metadata": {},
   "source": [
    "#### Q3. What is an iterator in python? Name the method used to initialise the iterator object and the method used for iteration. Use these methods to print the first five elements of the given list [2, 4, 6, 8, 10, 12, 14, 16, 18, 20]."
   ]
  },
  {
   "cell_type": "code",
   "execution_count": 25,
   "id": "1b76f081",
   "metadata": {},
   "outputs": [],
   "source": [
    "# An iterator is an object that can be iterated upon, meaning that you can traverse through all the values of a list , tuples, dictionaries, sets\n",
    "# Method used to initialise the iterator object is - '__iter__() and __next__'\n",
    "# Method used for iteration - 'iter()'"
   ]
  },
  {
   "cell_type": "code",
   "execution_count": 26,
   "id": "30bd8d3c",
   "metadata": {},
   "outputs": [
    {
     "name": "stdout",
     "output_type": "stream",
     "text": [
      "2\n",
      "4\n",
      "6\n",
      "8\n",
      "10\n"
     ]
    }
   ],
   "source": [
    "mylist = [2, 4, 6, 8, 10, 12, 14, 16, 18, 20]\n",
    "\n",
    "mylist1 = iter(mylist)\n",
    "for i in range(5):\n",
    "    print(next(mylist1))"
   ]
  },
  {
   "cell_type": "markdown",
   "id": "dc7cf4eb",
   "metadata": {},
   "source": [
    "#### Q4. What is a generator function in python? Why yield keyword is used? Give an example of a generator function."
   ]
  },
  {
   "cell_type": "code",
   "execution_count": 27,
   "id": "63db9314",
   "metadata": {},
   "outputs": [],
   "source": [
    "#a generator is a function that returns an iterator that produces a sequence of values when iterated over.\n",
    "#Generators are useful when we want to produce a large sequence of values, but we don't want to store all of them in memory at once\n",
    "# The yield keyword is used to produce a value from the generator.\n",
    "\n",
    "def test_fib(n):\n",
    "    a,b = 0,1\n",
    "    for i in range(n):\n",
    "        yield a\n",
    "        a,b = b, a+b"
   ]
  },
  {
   "cell_type": "code",
   "execution_count": 28,
   "id": "76006f06",
   "metadata": {},
   "outputs": [
    {
     "name": "stdout",
     "output_type": "stream",
     "text": [
      "0\n",
      "1\n",
      "1\n",
      "2\n",
      "3\n",
      "5\n",
      "8\n",
      "13\n",
      "21\n",
      "34\n"
     ]
    }
   ],
   "source": [
    "for i in test_fib(10):\n",
    "    print(i)"
   ]
  },
  {
   "cell_type": "code",
   "execution_count": 30,
   "id": "f280c023",
   "metadata": {},
   "outputs": [
    {
     "name": "stdout",
     "output_type": "stream",
     "text": [
      "0\n",
      "1\n",
      "2\n",
      "3\n",
      "4\n"
     ]
    }
   ],
   "source": [
    "def test3(n):\n",
    "    value = 0\n",
    "    while value < n:\n",
    "        yield value\n",
    "        value = value +1\n",
    "        \n",
    "for value in test3(5):\n",
    "    print(value)"
   ]
  },
  {
   "cell_type": "markdown",
   "id": "0114c00c",
   "metadata": {},
   "source": [
    "#### Q5. Create a generator function for prime numbers less than 1000. Use the next() method to print the first 20 prime numbers."
   ]
  },
  {
   "cell_type": "code",
   "execution_count": 6,
   "id": "161b1c7d",
   "metadata": {},
   "outputs": [
    {
     "name": "stdout",
     "output_type": "stream",
     "text": [
      "[]\n",
      "1\n",
      "2\n",
      "3\n",
      "5\n",
      "7\n",
      "11\n",
      "13\n",
      "17\n",
      "19\n",
      "23\n",
      "29\n",
      "31\n",
      "37\n",
      "41\n",
      "43\n",
      "47\n",
      "53\n",
      "59\n",
      "61\n"
     ]
    }
   ],
   "source": [
    "def prime():\n",
    "    a = []\n",
    "    for i in range(1000):\n",
    "        if i!=0:\n",
    "            c=0\n",
    "            for j in range(i):\n",
    "                if j>1 and i%j==0:\n",
    "                    c+=1\n",
    "            if c==0:\n",
    "                yield a\n",
    "                a=i\n",
    "\n",
    "prime1 = prime()\n",
    "for i in range(20):\n",
    "    print(next(prime1))"
   ]
  },
  {
   "cell_type": "code",
   "execution_count": null,
   "id": "b1744368",
   "metadata": {},
   "outputs": [],
   "source": []
  },
  {
   "cell_type": "code",
   "execution_count": null,
   "id": "95884216",
   "metadata": {},
   "outputs": [],
   "source": []
  }
 ],
 "metadata": {
  "kernelspec": {
   "display_name": "Python 3 (ipykernel)",
   "language": "python",
   "name": "python3"
  },
  "language_info": {
   "codemirror_mode": {
    "name": "ipython",
    "version": 3
   },
   "file_extension": ".py",
   "mimetype": "text/x-python",
   "name": "python",
   "nbconvert_exporter": "python",
   "pygments_lexer": "ipython3",
   "version": "3.9.7"
  }
 },
 "nbformat": 4,
 "nbformat_minor": 5
}
