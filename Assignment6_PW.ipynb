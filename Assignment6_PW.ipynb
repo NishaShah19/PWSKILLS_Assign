{
 "cells": [
  {
   "cell_type": "markdown",
   "id": "9d3999f8",
   "metadata": {},
   "source": [
    "PWSKILLS - Assignment 6\n",
    "\n",
    "Q1. What is a database? Differentiate between SQL and NoSQL databases.\n",
    "Ans – Database is an organized collection of data that can be accessed easily\n",
    "1. SQL database are called as Relational Databases (RDBMS) and NoSQL database are called as non-relational or distributed database.\n",
    "2. SQL is called as Structured Query language, NoSQL has dynamic schema for unstructured data.\n",
    "3. SQL databases are table based , NoSQL databases are document-based.\n",
    "\n",
    "Q2. What is DDL? Explain why CREATE, DROP, ALTER, and TRUNCATE are used with an example.\n",
    "Ans – DDL known as Data definition Language , used to create and modify database objects such as tables, indices , users.\n",
    "Create – Used to create a new table in SQL.\n",
    "Example – create TABLE <Table_name>\n",
    "Create Table employee_info (emp_id , emp_name , emp_email_id)\n",
    "\n",
    "DROP – Used to remove existing table along with its structure from database.\n",
    "Example – DROP TABLE <table_name>;\n",
    "DROP TABLE employee_info;\n",
    "\n",
    "ALTER – Used to add , delete or change columns in existing table.\n",
    "Example – ALTER TABLE <table_name>\n",
    "Add column_name datatype\n",
    "\n",
    "ALTER TABLE employee_info \n",
    "Add mobile_num;\n",
    "\n",
    "TRUNCATE – Used to remove all rows from the table without changing the structure of table.\n",
    "Example – TRUNCATE TABLE <table_name>;\n",
    "TRUNCATE TABLE employee_info;\n",
    "\n",
    "\n",
    "Q3. What is DML? Explain INSERT, UPDATE, and DELETE with an example.\n",
    "DML known as Data Manipulation Language, deals with manipulation of data present in the database.\n",
    "INSERT – Used to add new data to the database.\n",
    "Example - INSERT INTO TABLE_NAME (column_name1 , column_name2 …)\n",
    "INSERT INTO employee_info( emp_id , emp_name , emp_email_id ) VALUES (001 , Mark , mark@gmail.com)\n",
    "\n",
    "UPDATE – Allows users to update or modify the existing data in the database tables\n",
    "UPDATE TABLE_NAME SET (column_name1= value_1, ….., column_nameN = value_N) WHERE CONDITION;\n",
    "UPDATE employee_info emp_name = Elon WHERE emp_id = 001;\n",
    "\n",
    "DELETE – Allows user to remove single or multiple existing records from the database tables.\n",
    "Example – DELETE FROM table_name WHERE condition;\n",
    "DELETE FROM emp_info where emp_id = 001;\n",
    "\n",
    "Q4. What is DQL? Explain SELECT with an example.\n",
    "Ans – DQL known as Data Query Language. Used for performing queries on the data , used to fetch data from the database.\n",
    "SELECT – Used to extract data from the database in order to perform any actions to it.\n",
    "Example – SELECT expressions FROM TABLES WHERE conditions;\n",
    "SELECT emp_name FROM emp_info where emp_id =001;\n",
    "\n",
    "Q5. Explain Primary Key and Foreign Key.\n",
    "Ans – A primary key is used to ensure that data in the specific column is unique.\n",
    "A foreign key is a column of data in a table that refers to unique data values.\n",
    "\n",
    "\n"
   ]
  },
  {
   "cell_type": "markdown",
   "id": "0fca5a3c",
   "metadata": {},
   "source": [
    "#### Q6. Write a python code to connect MySQL to python. Explain the cursor() and execute() method.\n",
    "--\n",
    "import mysql.connector\n",
    "mydb = mysql.connector.connect(\n",
    "  host=\"localhost\",\n",
    "  user=\"abc\",\n",
    "  password=\"password\"\n",
    ")\n",
    "\n",
    "A cursor is an object which helps to execute the query and fetch the records from the database.\n",
    "example-\n",
    "mycursor = mydb.cursor()\n",
    "mycursor.execute(\"INSERT into test1.test_table values (3654 , 'Nisha' ,41.2 , 87 , 'Shah')\")\n",
    "mydb.commit()\n",
    "mydb.close()\n"
   ]
  },
  {
   "cell_type": "markdown",
   "id": "d1bcf3bb",
   "metadata": {},
   "source": [
    "#### Q7. Give the order of execution of SQL clauses in an SQL query.\n",
    "\n",
    "    Order\t      Clause\t       Function\n",
    "        1\t        FROM\t        Tables are joined to get the base data.\n",
    "        2\t        WHERE\t        The base data is filtered.\n",
    "        3\t        GROUP BY\t    The filtered base data is grouped.\n",
    "        4\t        HAVING\t        The grouped base data is filtered."
   ]
  },
  {
   "cell_type": "code",
   "execution_count": null,
   "id": "58168584",
   "metadata": {},
   "outputs": [],
   "source": []
  }
 ],
 "metadata": {
  "kernelspec": {
   "display_name": "Python 3 (ipykernel)",
   "language": "python",
   "name": "python3"
  },
  "language_info": {
   "codemirror_mode": {
    "name": "ipython",
    "version": 3
   },
   "file_extension": ".py",
   "mimetype": "text/x-python",
   "name": "python",
   "nbconvert_exporter": "python",
   "pygments_lexer": "ipython3",
   "version": "3.9.7"
  }
 },
 "nbformat": 4,
 "nbformat_minor": 5
}
