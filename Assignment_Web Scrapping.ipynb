{
 "cells": [
  {
   "cell_type": "markdown",
   "id": "ec350e03",
   "metadata": {},
   "source": [
    "# Assignment_Web Scrapping"
   ]
  },
  {
   "cell_type": "markdown",
   "id": "3e39ede0",
   "metadata": {},
   "source": [
    "Q1. What is Web Scraping? Why is it Used? Give three areas where Web Scraping is used to get data.\n",
    "\n",
    "- Web scraping is an automatic method to obtain large amounts of data from websites. Most of this data is unstructured data in an HTML format which is then converted into structured data in a spreadsheet or a database so that it can be used in various applications. There are many different ways to perform web scraping to obtain data from websites. These include using online services, particular API’s or even creating your code for web scraping from scratch. Many large websites, like Google, Twitter, Facebook, StackOverflow, etc. have API’s that allow you to access their data in a structured format. This is the best option, but there are other sites that don’t allow users to access large amounts of data in a structured form or they are simply not that technologically advanced. In that situation, it’s best to use Web Scraping to scrape the website for data."
   ]
  },
  {
   "cell_type": "markdown",
   "id": "1b267d7e",
   "metadata": {},
   "source": [
    "Q2. What are the different methods used for Web Scraping?\n",
    "\n",
    "- HTML Parsing\n",
    "- DOM Parsing\n",
    "- Vertical Aggregation\n",
    "- Google Sheets"
   ]
  },
  {
   "cell_type": "markdown",
   "id": "377e498d",
   "metadata": {},
   "source": [
    "Q3. What is Beautiful Soup? Why is it used?\n",
    "\n",
    "- Beautiful Soup is a Python library for pulling data out of HTML and XML files. It works with your favorite parser to provide idiomatic ways of navigating, searching, and modifying the parse tree. It commonly saves programmers hours or days of work.\n",
    "- Beautiful Soup is a valuable tool for web scraping, and it seamlessly integrates with several different XML and HTML parsers. Once you identify the data you want to scrape and understand the web page's structure, you can use the Beautiful Soup Python library to write a script quickly."
   ]
  },
  {
   "cell_type": "markdown",
   "id": "7a279042",
   "metadata": {},
   "source": [
    "Q4. Why is flask used in this Web Scraping project?\n",
    "\n",
    "- Flask is a simple tool for building websites using Python. It helps you create web pages and handle user requests easily. Think of it as a basic toolkit for making websites\n",
    "- With its straightforward and adaptable Flask framework, use Python to construct web apps and APIs that are interactive and data-driven."
   ]
  },
  {
   "cell_type": "markdown",
   "id": "fa7965e3",
   "metadata": {},
   "source": [
    "Q5. Write the names of AWS services used in this project. Also, explain the use of each service.\n",
    "\n",
    "- Dynamo DB\n",
    "DynamoDB is a serverless, document database key-value NoSQL database that is designed to run high-performance applications. It can manage up to 10 trillion requests on a daily basis and support thresholds of more than 20 million requests per second. DynamoDB has built-in security with a fully-managed multi-master, multi-region, durable database, and in-memory archiving for web-scale applications. It has in-built tools which is used to generate actionable insights, useful analytics, and monitor traffic trends. It offers built-in security, continuous backups, automated multi-region replication, data import and export, and in-memory caching. "
   ]
  },
  {
   "cell_type": "code",
   "execution_count": null,
   "id": "926fae06",
   "metadata": {},
   "outputs": [],
   "source": []
  }
 ],
 "metadata": {
  "kernelspec": {
   "display_name": "Python 3 (ipykernel)",
   "language": "python",
   "name": "python3"
  },
  "language_info": {
   "codemirror_mode": {
    "name": "ipython",
    "version": 3
   },
   "file_extension": ".py",
   "mimetype": "text/x-python",
   "name": "python",
   "nbconvert_exporter": "python",
   "pygments_lexer": "ipython3",
   "version": "3.9.7"
  }
 },
 "nbformat": 4,
 "nbformat_minor": 5
}
