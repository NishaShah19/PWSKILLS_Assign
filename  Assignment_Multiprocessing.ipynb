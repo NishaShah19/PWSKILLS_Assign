{
 "cells": [
  {
   "cell_type": "markdown",
   "id": "6811c0db",
   "metadata": {},
   "source": [
    "# Assignment_Multiprocessing\n"
   ]
  },
  {
   "cell_type": "markdown",
   "id": "8d20c641",
   "metadata": {},
   "source": [
    "Q1. What is multiprocessing in python? Why is it useful?\n",
    "\n",
    "- Multiprocessing in Python is a built-in package that allows the system to run multiple processes simultaneously. It will enable the breaking of applications into smaller threads that can run independently.\n",
    "- Multiprocessing refers to the ability of a system to support more than one processor at the same time. Applications in a multiprocessing system are broken to smaller routines that run independently. The operating system allocates these threads to the processors improving performance of the system"
   ]
  },
  {
   "cell_type": "markdown",
   "id": "28bdf71d",
   "metadata": {},
   "source": [
    "Q2. What are the differences between multiprocessing and multithreading?\n",
    "\n",
    "- Both Multiprocessing and Multithreading are used to increase the computing power of a system. Multiprocessing: Multiprocessing is a system that has more than one or two processors. In Multiprocessing, CPUs are added for increasing computing speed of the system. Because of Multiprocessing, There are many processes are executed simultaneously. \n",
    "- Multithreading is a system in which multiple threads are created of a process for increasing the computing speed of the system. In multithreading, many threads of a process are executed simultaneously and process creation in multithreading is done according to economical. "
   ]
  },
  {
   "cell_type": "code",
   "execution_count": 2,
   "id": "48cf73d0",
   "metadata": {},
   "outputs": [
    {
     "name": "stdout",
     "output_type": "stream",
     "text": [
      "ID of main process: 23472\n",
      "ID of process p1: 32852\n",
      "ID of process p2: 33988\n",
      "Both processes finished execution!\n",
      "Process p1 is alive: False\n",
      "Process p2 is alive: False\n"
     ]
    }
   ],
   "source": [
    "#Q3. Write a python code to create a process using the multiprocessing module.\n",
    "\n",
    "# importing the multiprocessing module\n",
    "import multiprocessing\n",
    "import os\n",
    "\n",
    "def worker1():\n",
    "    # printing process id\n",
    "    print(\"ID of process running worker1: {}\".format(os.getpid()))\n",
    "\n",
    "def worker2():\n",
    "    # printing process id\n",
    "    print(\"ID of process running worker2: {}\".format(os.getpid()))\n",
    "\n",
    "if __name__ == \"__main__\":\n",
    "    # printing main program process id\n",
    "    print(\"ID of main process: {}\".format(os.getpid()))\n",
    "\n",
    "    # creating processes\n",
    "    p1 = multiprocessing.Process(target=worker1)\n",
    "    p2 = multiprocessing.Process(target=worker2)\n",
    "\n",
    "    # starting processes\n",
    "    p1.start()\n",
    "    p2.start()\n",
    "\n",
    "    # process IDs\n",
    "    print(\"ID of process p1: {}\".format(p1.pid))\n",
    "    print(\"ID of process p2: {}\".format(p2.pid))\n",
    "\n",
    "    # wait until processes are finished\n",
    "    p1.join()\n",
    "    p2.join()\n",
    "\n",
    "    # both processes finished\n",
    "    print(\"Both processes finished execution!\")\n",
    "\n",
    "    # check if processes are alive\n",
    "    print(\"Process p1 is alive: {}\".format(p1.is_alive()))\n",
    "    print(\"Process p2 is alive: {}\".format(p2.is_alive()))"
   ]
  },
  {
   "cell_type": "markdown",
   "id": "8358e3cc",
   "metadata": {},
   "source": [
    "Q4. What is a multiprocessing pool in python? Why is it used?\n",
    "\n",
    "- The pool distributes the tasks to the available processors using a FIFO scheduling. It works like a map-reduce architecture. It maps the input to the different processors and collects the output from all the processors."
   ]
  },
  {
   "cell_type": "markdown",
   "id": "a304dda9",
   "metadata": {},
   "source": [
    "Q5. How can we create a pool of worker processes in python using the multiprocessing module?\n",
    "\n",
    "- from multiprocessing. pool import Pool. ...\n",
    "if __name__ == '__main__': # create a process pool with the default number of workers.\n",
    "pool = Pool() # report the status of the process pool.\n",
    "print(pool) # report the number of processes in the pool.\n",
    "print(pool. _processes) ...\n",
    "children = active_children() print(len(children))"
   ]
  },
  {
   "cell_type": "markdown",
   "id": "1dc3106e",
   "metadata": {},
   "source": [
    "Q6. Write a python program to create 4 processes, each process should print a different number using the\n",
    "multiprocessing module in python.\n",
    "\n",
    "- "
   ]
  },
  {
   "cell_type": "code",
   "execution_count": 3,
   "id": "b2f697a8",
   "metadata": {},
   "outputs": [
    {
     "name": "stdout",
     "output_type": "stream",
     "text": [
      "ID of main process: 23472\n",
      "ID of process p1: 22820\n",
      "ID of process p2: 38076\n",
      "Both processes finished execution!\n",
      "Process p1 is alive: False\n",
      "Process p2 is alive: False\n"
     ]
    }
   ],
   "source": [
    "import multiprocessing\n",
    "import os\n",
    "\n",
    "def worker1():\n",
    "    # printing process id\n",
    "    print(\"ID of process running worker1: {}\".format(os.getpid()))\n",
    "\n",
    "def worker2():\n",
    "    # printing process id\n",
    "    print(\"ID of process running worker2: {}\".format(os.getpid()))\n",
    "\n",
    "if __name__ == \"__main__\":\n",
    "    # printing main program process id\n",
    "    print(\"ID of main process: {}\".format(os.getpid()))\n",
    "\n",
    "    # creating processes\n",
    "    p1 = multiprocessing.Process(target=worker1)\n",
    "    p2 = multiprocessing.Process(target=worker2)\n",
    "\n",
    "    # starting processes\n",
    "    p1.start()\n",
    "    p2.start()\n",
    "\n",
    "    # process IDs\n",
    "    print(\"ID of process p1: {}\".format(p1.pid))\n",
    "    print(\"ID of process p2: {}\".format(p2.pid))\n",
    "\n",
    "    # wait until processes are finished\n",
    "    p1.join()\n",
    "    p2.join()\n",
    "\n",
    "    # both processes finished\n",
    "    print(\"Both processes finished execution!\")\n",
    "\n",
    "    # check if processes are alive\n",
    "    print(\"Process p1 is alive: {}\".format(p1.is_alive()))\n",
    "    print(\"Process p2 is alive: {}\".format(p2.is_alive()))"
   ]
  },
  {
   "cell_type": "code",
   "execution_count": null,
   "id": "d2d24951",
   "metadata": {},
   "outputs": [],
   "source": []
  }
 ],
 "metadata": {
  "kernelspec": {
   "display_name": "Python 3 (ipykernel)",
   "language": "python",
   "name": "python3"
  },
  "language_info": {
   "codemirror_mode": {
    "name": "ipython",
    "version": 3
   },
   "file_extension": ".py",
   "mimetype": "text/x-python",
   "name": "python",
   "nbconvert_exporter": "python",
   "pygments_lexer": "ipython3",
   "version": "3.9.7"
  }
 },
 "nbformat": 4,
 "nbformat_minor": 5
}
