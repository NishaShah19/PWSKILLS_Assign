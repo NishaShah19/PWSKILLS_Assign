{
 "cells": [
  {
   "cell_type": "markdown",
   "id": "7200df5d",
   "metadata": {},
   "source": [
    "# Assignment_Statistics_Advance4_PW"
   ]
  },
  {
   "cell_type": "markdown",
   "id": "20f75e77",
   "metadata": {},
   "source": [
    "### Q1: What is the difference between a t-test and a z-test? Provide an example scenario where you would use each type of test.\n",
    "\n",
    "Ans - z-tests are used when we have large sample sizes (n > 30), whereas t-tests are most helpful with a smaller sample size (n < 30). Both methods assume a normal distribution of the data, but the z-tests are most useful when the standard deviation is known.\n",
    "\n",
    "- Purpose: The T-test is employed to compare means of small samples (usually when the sample size is less than 30), while the Z-test is used to compare means of large samples (typically when the sample size is equal to or greater than 30).\n",
    "- Assumptions: The T-test assumes the data to be approximately normally distributed, whereas the Z-test assumes both normally distributed data and a known population standard deviation.\n",
    "- Population Standard Deviation: The T-test deals with situations where the population standard deviation is unknown, while the Z-test assumes a known population standard deviation.\n",
    "- Sample Size: The T-test is suitable for analyzing small sample sizes (less than 30), whereas the Z-test is appropriate for large sample sizes (equal to or greater than 30).\n",
    "- Test Statistic: The T-test employs the T-distribution as the test statistic, while the Z-test utilizes the standard normal distribution (Z-distribution).\n",
    "- Degrees of Freedom: The T-test requires calculating the degrees of freedom using the formula n1 + n2 - 2, where n1 and n2 represent the sample sizes. The Z-test does not involve degrees of freedom.\n",
    "- Use Case: The T-test is commonly used for comparing means between groups, especially when working with small samples. The Z-test is employed for population mean comparisons, usually with large samples.\n",
    "- One-sample vs. Two-sample: Both the T-test and the Z-test can be applied in both one-sample and two-sample scenarios. However, the Z-test is more commonly used in two-sample situations.\n",
    "- Data Requirement: Both tests require raw data as input for analysis.\n",
    "- Complexity: The T-test is relatively more complex than the Z-test due to the calculation of degrees of freedom and the use of the T-distribution. The Z-test is comparatively simpler, making it easier to implement"
   ]
  },
  {
   "cell_type": "markdown",
   "id": "3769493d",
   "metadata": {},
   "source": [
    "# Q2: Differentiate between one-tailed and two-tailed tests.\n",
    "\n",
    "1. One tailed test - A one-tailed test is based on a uni-directional hypothesis where the area of rejection is on only one side of the sampling distribution. It determines whether a particular population parameter is larger or smaller than the predefined parameter. It uses one single critical value to test the data.A test of any statistical hypothesis, where the alternative hypothesis is one-tailed either right-tailed or left-tailed. For one-tailed, we use either > or < sign for the alternative hypothesis.When the alternative hypothesis specifies a direction then we use a one-tailed test.Critical region lies entirely on either the right side or left side of the sampling distribution. Here, the Entire level of significance (α) i.e. 5% has either in the left tail or right tail.It checks the relation between the variable in a singles direction.It checks the relation between the variable in a singles direction.\n",
    "\n",
    "2. Two Tailed test - A two-tailed test is also called a nondirectional hypothesis. For checking whether the sample is greater or less than a range of values, we use the two-tailed. It is used for null hypothesis testing.A test of a statistical hypothesis, where the alternative hypothesis is two-tailed.For two-tailed, we use ≠ sign for the alternative hypothesis.If no direction is given then we will use a two-tailed test.Critical region is given by the portion of the area lying in both the tails of the probability curve of the test statistic.It splits the level of significance (α) into half.Rejection region is from both sides i.e. left and right of the sampling distribution.It checks the relation between the variables in any direction.It is used to check whether the two mean different from one another or not."
   ]
  },
  {
   "cell_type": "markdown",
   "id": "4725c997",
   "metadata": {},
   "source": [
    "# Q3: Explain the concept of Type 1 and Type 2 errors in hypothesis testing. Provide an example scenario for each type of error.\n",
    "\n",
    "- Type I error (false positive): the test result says you have coronavirus, but you actually don’t.\n",
    "- Type II error (false negative): the test result says you don’t have coronavirus, but you actually do.\n",
    "\n",
    "A type I error occurs if a null hypothesis is rejected that is actually true in the population. This type of error is representative of a false positive. Alternatively, a type II error occurs if a null hypothesis is not rejected that is actually false in the population. This type of error is representative of a false negative.\n",
    "\n",
    "The difference between a type II error and a type I error is that a type I error rejects the null hypothesis when it is true (i.e., a false positive). The probability of committing a type I error is equal to the level of significance that was set for the hypothesis test. Therefore, if the level of significance is 0.05, there is a 5% chance a type I error may occur.\n",
    "\n",
    "The probability of committing a type II error is equal to one minus the power of the test, also known as beta. The power of the test could be increased by increasing the sample size, which decreases the risk of committing a type II error."
   ]
  },
  {
   "cell_type": "markdown",
   "id": "7b823682",
   "metadata": {},
   "source": [
    "# Q4: Explain Bayes's theorem with an example."
   ]
  },
  {
   "cell_type": "markdown",
   "id": "a9814a97",
   "metadata": {},
   "source": [
    "Bayes’ theorem describes the probability of occurrence of an event related to any condition. It is also considered for the case of conditional probability. Bayes theorem is also known as the formula for the probability of “causes”. For example: if we have to calculate the probability of taking a blue ball from the second bag out of three different bags of balls, where each bag contains three different colour balls viz. red, blue, black. In this case, the probability of occurrence of an event is calculated depending on other conditions is known as conditional probability. In this article, let us discuss the statement and proof for Bayes theorem, its derivation, formula, and many solved examples.\n"
   ]
  },
  {
   "cell_type": "markdown",
   "id": "5006df58",
   "metadata": {},
   "source": [
    "# Q5: What is a confidence interval? How to calculate the confidence interval, explain with an example."
   ]
  },
  {
   "cell_type": "markdown",
   "id": "34c374c7",
   "metadata": {},
   "source": [
    "The confidence interval is how much certainty you have about a sample set of data falling within a range of values. These values support the confidence level and represent the probability of a bigger population meeting the same outcomes as your statistical findings for the sample. To calculate the confidence interval, use the following formula:\n",
    "Confidence interval (CI) = ‾X ± Z(S ÷ √n)\n",
    "\n",
    "In the formula, ‾X represents the sample mean, Z represents the Z-value you get from the normal standard distribution, S is the population standard deviation and n represents the sample size you're surveying.\n",
    "\n"
   ]
  },
  {
   "cell_type": "markdown",
   "id": "a4618864",
   "metadata": {},
   "source": [
    "# Q6. Use Bayes' Theorem to calculate the probability of an event occurring given prior knowledge of the event's probability and new evidence. Provide a sample problem and solution."
   ]
  },
  {
   "cell_type": "markdown",
   "id": "ff9b6e35",
   "metadata": {},
   "source": [
    "Bayes’ theorem describes the probability of occurrence of an event related to any condition. It is also considered for the case of conditional probability. Bayes theorem is also known as the formula for the probability of “causes”. For example: if we have to calculate the probability of taking a blue ball from the second bag out of three different bags of balls, where each bag contains three different colour balls viz. red, blue, black. In this case, the probability of occurrence of an event is calculated depending on other conditions is known as conditional probability."
   ]
  },
  {
   "cell_type": "markdown",
   "id": "8afe6c84",
   "metadata": {},
   "source": [
    "# Q7. Calculate the 95% confidence interval for a sample of data with a mean of 50 and a standard deviation of 5. Interpret the results."
   ]
  },
  {
   "cell_type": "markdown",
   "id": "919c8685",
   "metadata": {},
   "source": [
    "# Q8. What is the margin of error in a confidence interval? How does sample size affect the margin of error? Provide an example of a scenario where a larger sample size would result in a smaller margin of error."
   ]
  },
  {
   "cell_type": "markdown",
   "id": "9435205c",
   "metadata": {},
   "source": [
    "Each interval reflects the range within which one may have 95% confidence that the true percentage may be found, given a reported percentage of 50%. The margin of error is half the confidence interval (also, the radius of the interval). The larger the sample, the smaller the margin of error.\n",
    "\n"
   ]
  },
  {
   "cell_type": "markdown",
   "id": "41c35b99",
   "metadata": {},
   "source": [
    "# Calculate the z-score for a data point with a value of 75, a population mean of 70, and a population standard deviation of 5. Interpret the results."
   ]
  },
  {
   "cell_type": "markdown",
   "id": "6b7ac2bd",
   "metadata": {},
   "source": [
    "(75 - 70) / 5\n",
    "= 1\n"
   ]
  },
  {
   "cell_type": "markdown",
   "id": "9a77adcb",
   "metadata": {},
   "source": [
    "# Q10. In a study of the effectiveness of a new weight loss drug, a sample of 50 participants lost an average of 6 pounds with a standard deviation of 2.5 pounds. Conduct a hypothesis test to determine if the drug is significantly effective at a 95% confidence level using a t-test."
   ]
  },
  {
   "cell_type": "markdown",
   "id": "476c431b",
   "metadata": {},
   "source": [
    "n = 50 , sd = 2.5 , Confidence level = 95% , mean = 6\n",
    "\n",
    "t = (m)/sd/root of n\n",
    "\n",
    "=6/(2.5/7.07)\n",
    "=6/0.35\n",
    "=17.14"
   ]
  },
  {
   "cell_type": "markdown",
   "id": "9eafb20c",
   "metadata": {},
   "source": [
    "# Q11. In a survey of 500 people, 65% reported being satisfied with their current job. Calculate the 95% confidence interval for the true proportion of people who are satisfied with their job."
   ]
  },
  {
   "cell_type": "markdown",
   "id": "240a9cd8",
   "metadata": {},
   "source": [
    "n = 500 , sample mean = 65% , CI = 95%\n",
    "\n",
    "X̄ ± Z×\tσ/√n\n",
    "\n",
    "where Z is the Z-value for the chosen confidence level, X̄ is the sample mean, σ is the standard deviation, and n is the sample size. Assuming the following with a confidence level of 95%:\n",
    "\n",
    "13 +- 1.960 * σ/√500\n",
    "13+- 1.960 * σ/22.36"
   ]
  },
  {
   "cell_type": "markdown",
   "id": "7a4f0227",
   "metadata": {},
   "source": [
    " # Q12. A researcher is testing the effectiveness of two different teaching methods on student performance.Sample A has a mean score of 85 with a standard deviation of 6, while sample B has a mean score of 82 with a standard deviation of 5. Conduct a hypothesis test to determine if the two teaching methods have a significant difference in student performance using a t-test with a significance level of 0.01."
   ]
  },
  {
   "cell_type": "markdown",
   "id": "0b6bc03d",
   "metadata": {},
   "source": [
    "x1 = 85 , x2 = 82\n",
    "sd1 = 6 , sd2 = 5\n"
   ]
  },
  {
   "cell_type": "markdown",
   "id": "756f015b",
   "metadata": {},
   "source": [
    "# Q13. A population has a mean of 60 and a standard deviation of 8. A sample of 50 observations has a mean of 65. Calculate the 90% confidence interval for the true population mean."
   ]
  },
  {
   "cell_type": "markdown",
   "id": "94490188",
   "metadata": {},
   "source": [
    "# Q14. In a study of the effects of caffeine on reaction time, a sample of 30 participants had an average reaction time of 0.25 seconds with a standard deviation of 0.05 seconds. Conduct a hypothesis test to determine if the caffeine has a significant effect on reaction time at a 90% confidence level using a t-test."
   ]
  },
  {
   "cell_type": "code",
   "execution_count": null,
   "id": "49d4186a",
   "metadata": {},
   "outputs": [],
   "source": []
  }
 ],
 "metadata": {
  "kernelspec": {
   "display_name": "Python 3 (ipykernel)",
   "language": "python",
   "name": "python3"
  },
  "language_info": {
   "codemirror_mode": {
    "name": "ipython",
    "version": 3
   },
   "file_extension": ".py",
   "mimetype": "text/x-python",
   "name": "python",
   "nbconvert_exporter": "python",
   "pygments_lexer": "ipython3",
   "version": "3.9.7"
  }
 },
 "nbformat": 4,
 "nbformat_minor": 5
}
