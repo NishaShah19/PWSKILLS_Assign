{
 "cells": [
  {
   "cell_type": "markdown",
   "id": "ee063fff",
   "metadata": {},
   "source": [
    "# Logistic Regression-3"
   ]
  },
  {
   "cell_type": "markdown",
   "id": "a8606974",
   "metadata": {},
   "source": [
    "#### Q1. Explain the concept of precision and recall in the context of classification models.\n",
    "\n",
    "- Recall: The ability of a model to find all the relevant cases within a data set. Mathematically, we define recall as the number of true positives divided by the number of true positives plus the number of false negatives. Precision: The ability of a classification model to identify only the relevant data points."
   ]
  },
  {
   "cell_type": "markdown",
   "id": "9c95e06e",
   "metadata": {},
   "source": [
    "#### Q2. What is the F1 score and how is it calculated? How is it different from precision and recall?\n",
    "\n",
    "- F1 score is a machine learning evaluation metric that measures a model's accuracy. It combines the precision and recall scores of a model. The accuracy metric computes how many times a model made a correct prediction across the entire dataset."
   ]
  },
  {
   "cell_type": "markdown",
   "id": "ecedbb33",
   "metadata": {},
   "source": [
    "#### Q3. What is ROC and AUC, and how are they used to evaluate the performance of classification models?\n",
    "\n",
    "- ROC or Receiver Operating Characteristic curve represents a probability graph to show the performance of a classification model at different threshold levels. The curve is plotted between two parameters, which are:\n",
    "\n",
    "True Positive Rate or TPR\n",
    "False Positive Rate or FPR\n",
    "\n",
    "- AUC is known for Area Under the ROC curve. As its name suggests, AUC calculates the two-dimensional area under the entire ROC curve ranging from (0,0) to (1,1), "
   ]
  },
  {
   "cell_type": "markdown",
   "id": "27fb253a",
   "metadata": {},
   "source": [
    "#### Q4. How do you choose the best metric to evaluate the performance of a classification model?\n",
    "\n",
    "- Metrics like accuracy, precision, recall are good ways to evaluate classification models for balanced datasets, but if the data is imbalanced then other methods like ROC/AUC perform better in evaluating the model performance\n",
    "\n",
    "#### What is multiclass classification and how is it different from binary classification?\n",
    "\n",
    "- Multi-class classification is the task of classifying elements into different classes.In these, there are different classes for the response variable to be classified in and thus according to the name, it is a Multi-class classification.\n",
    "\n",
    "1. Binary is a classification of two groups, i.e. classifies objects in at most two classes. It is a process or task of classification, in which a given data is being classified into two classes.  It’s basically a kind of prediction about which of two groups the thing belongs to. "
   ]
  },
  {
   "cell_type": "markdown",
   "id": "c890405e",
   "metadata": {},
   "source": [
    "#### Q5. Explain how logistic regression can be used for multiclass classification.\n",
    "\n",
    "- Logistic regression, by default, is limited to two-class classification problems. Some extensions like one-vs-rest can allow logistic regression to be used for multi-class classification problems, although they require that the classification problem first be transformed into multiple binary classification problems\n"
   ]
  },
  {
   "cell_type": "markdown",
   "id": "3cb9d1e9",
   "metadata": {},
   "source": [
    "#### Q6. Describe the steps involved in an end-to-end project for multiclass classification.\n",
    "\n",
    "- Loading the Data\n",
    "- Analyze the Dataset \n",
    "- Feature selection\n",
    "- Evaluate Algorithms \n",
    "- Finalize Model and Present Results."
   ]
  },
  {
   "cell_type": "markdown",
   "id": "28401b37",
   "metadata": {},
   "source": [
    "#### Q7. What is model deployment and why is it important?\n",
    "\n",
    "- Model deployment is the process of putting machine learning models into production. This makes the model's predictions available to users, developers or systems, so they can make business decisions based on data, interact with their application (like recognize a face in an image) and so on.\n"
   ]
  },
  {
   "cell_type": "markdown",
   "id": "11974f64",
   "metadata": {},
   "source": [
    "#### Q8. Explain how multi-cloud platforms are used for model deployment.\n",
    "\n",
    "- A multi-cloud deployment model allows organizations to choose the specific services that work best for them. They can then maximize the resources and pay only for what gets used. It provides a reliable architecture. Using multiple CSPs creates redundancies that minimize the risk of a single point of failure.\n"
   ]
  },
  {
   "cell_type": "markdown",
   "id": "84dc4f31",
   "metadata": {},
   "source": [
    "#### Q9. Discuss the benefits and challenges of deploying machine learning models in a multi-cloud environment.\n",
    "\n",
    "- Benefits\n",
    "1. Increased productivity and efficiency\n",
    "2. Improved flexibility\n",
    "\n",
    "- Challenges\n",
    "1. Data protection\n",
    "2. Agility"
   ]
  },
  {
   "cell_type": "code",
   "execution_count": null,
   "id": "b6ba94f6",
   "metadata": {},
   "outputs": [],
   "source": []
  }
 ],
 "metadata": {
  "kernelspec": {
   "display_name": "Python 3 (ipykernel)",
   "language": "python",
   "name": "python3"
  },
  "language_info": {
   "codemirror_mode": {
    "name": "ipython",
    "version": 3
   },
   "file_extension": ".py",
   "mimetype": "text/x-python",
   "name": "python",
   "nbconvert_exporter": "python",
   "pygments_lexer": "ipython3",
   "version": "3.9.7"
  }
 },
 "nbformat": 4,
 "nbformat_minor": 5
}
