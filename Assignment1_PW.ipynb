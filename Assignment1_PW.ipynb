{
 "cells": [
  {
   "cell_type": "markdown",
   "id": "690eddf5",
   "metadata": {},
   "source": [
    "Q1. Create one variable containing following type of data:\n",
    "(i) string\n",
    "(ii) list\n",
    "(iii) float\n",
    "(iv) tuple"
   ]
  },
  {
   "cell_type": "code",
   "execution_count": 31,
   "id": "5834b4ad",
   "metadata": {},
   "outputs": [
    {
     "data": {
      "text/plain": [
       "tuple"
      ]
     },
     "execution_count": 31,
     "metadata": {},
     "output_type": "execute_result"
    }
   ],
   "source": [
    "c = (\"Nisha\" , \"pwskils\" , 3000)\n",
    "type(c)"
   ]
  },
  {
   "cell_type": "code",
   "execution_count": 32,
   "id": "d32aa314",
   "metadata": {},
   "outputs": [
    {
     "data": {
      "text/plain": [
       "str"
      ]
     },
     "execution_count": 32,
     "metadata": {},
     "output_type": "execute_result"
    }
   ],
   "source": [
    "d = \"Nisha\"\n",
    "type(d)"
   ]
  },
  {
   "cell_type": "code",
   "execution_count": 33,
   "id": "8ba18a8f",
   "metadata": {},
   "outputs": [
    {
     "data": {
      "text/plain": [
       "float"
      ]
     },
     "execution_count": 33,
     "metadata": {},
     "output_type": "execute_result"
    }
   ],
   "source": [
    "b = 10.15\n",
    "type(b)"
   ]
  },
  {
   "cell_type": "code",
   "execution_count": 34,
   "id": "c7f68e6b",
   "metadata": {},
   "outputs": [
    {
     "data": {
      "text/plain": [
       "list"
      ]
     },
     "execution_count": 34,
     "metadata": {},
     "output_type": "execute_result"
    }
   ],
   "source": [
    "a = [2,3.4,5, \"Nisha\", \"pwskills\"]\n",
    "type(a)"
   ]
  },
  {
   "cell_type": "markdown",
   "id": "e5e9882c",
   "metadata": {},
   "source": [
    "Q2. Given are some following variables containing data:"
   ]
  },
  {
   "cell_type": "code",
   "execution_count": 35,
   "id": "884b1b8f",
   "metadata": {},
   "outputs": [
    {
     "data": {
      "text/plain": [
       "str"
      ]
     },
     "execution_count": 35,
     "metadata": {},
     "output_type": "execute_result"
    }
   ],
   "source": [
    "var1 = ' '\n",
    "type(var1)"
   ]
  },
  {
   "cell_type": "code",
   "execution_count": 37,
   "id": "62971464",
   "metadata": {},
   "outputs": [
    {
     "data": {
      "text/plain": [
       "str"
      ]
     },
     "execution_count": 37,
     "metadata": {},
     "output_type": "execute_result"
    }
   ],
   "source": [
    "var2 = '[ DS , ML , Python]'\n",
    "type(var2)"
   ]
  },
  {
   "cell_type": "code",
   "execution_count": 39,
   "id": "9f578cd4",
   "metadata": {},
   "outputs": [
    {
     "data": {
      "text/plain": [
       "list"
      ]
     },
     "execution_count": 39,
     "metadata": {},
     "output_type": "execute_result"
    }
   ],
   "source": [
    "var3 = [ 'DS' , 'ML' , 'Python' ]\n",
    "type(var3)"
   ]
  },
  {
   "cell_type": "code",
   "execution_count": 40,
   "id": "2cd538d8",
   "metadata": {},
   "outputs": [
    {
     "data": {
      "text/plain": [
       "int"
      ]
     },
     "execution_count": 40,
     "metadata": {},
     "output_type": "execute_result"
    }
   ],
   "source": [
    "var4 =1\n",
    "type(var4)"
   ]
  },
  {
   "cell_type": "markdown",
   "id": "27e93c47",
   "metadata": {},
   "source": [
    "Q3. Explain the use of the following operators using an example:\n",
    "(i) /\n",
    "(ii) %\n",
    "(iii) //\n",
    "(iv) **"
   ]
  },
  {
   "cell_type": "markdown",
   "id": "0d5968d3",
   "metadata": {},
   "source": [
    " / - It is the division operator , which divides the first operand by the second\n",
    " % - Modulas operator which returns the remainder after division\n",
    " // - Floor division It provides the quotient's floor value, which is obtained by dividing the two operands.\n",
    "** -power aoperator - As it calculates the first operand's power to the second operand, it is an exponent operator"
   ]
  },
  {
   "cell_type": "code",
   "execution_count": null,
   "id": "021767d1",
   "metadata": {},
   "outputs": [],
   "source": []
  },
  {
   "cell_type": "markdown",
   "id": "e287ba67",
   "metadata": {},
   "source": [
    " Q4. Create a list of length 10 of your choice containing multiple types of data. Using for loop print the\n",
    "element and its data type."
   ]
  },
  {
   "cell_type": "code",
   "execution_count": 43,
   "id": "85679ec9",
   "metadata": {},
   "outputs": [
    {
     "data": {
      "text/plain": [
       "list"
      ]
     },
     "execution_count": 43,
     "metadata": {},
     "output_type": "execute_result"
    }
   ],
   "source": [
    "a = [2,3.4,5, \"Nisha\", \"pwskills\" , \"True\" , 0.1 , 'a' , 'Python' , 100]\n",
    "type(a)"
   ]
  },
  {
   "cell_type": "code",
   "execution_count": 17,
   "id": "72e57198",
   "metadata": {},
   "outputs": [
    {
     "name": "stdout",
     "output_type": "stream",
     "text": [
      "2 <class 'int'>\n",
      "3.4 <class 'float'>\n",
      "5 <class 'int'>\n",
      "Nisha <class 'str'>\n",
      "pwskills <class 'str'>\n",
      "True <class 'str'>\n",
      "0.1 <class 'float'>\n",
      "a <class 'str'>\n",
      "Python <class 'str'>\n",
      "100 <class 'int'>\n"
     ]
    }
   ],
   "source": [
    "for element in a:\n",
    "    print (element ,type(element))"
   ]
  },
  {
   "cell_type": "markdown",
   "id": "4b1ce53e",
   "metadata": {},
   "source": [
    "Q5 Using a while loop, verify if the number A is purely divisible by number B and if so then how many\n",
    " times it can be divisible.\n"
   ]
  },
  {
   "cell_type": "code",
   "execution_count": 24,
   "id": "b8a816f9",
   "metadata": {},
   "outputs": [
    {
     "name": "stdout",
     "output_type": "stream",
     "text": [
      "2\n",
      "10\n",
      "Number not divisible\n"
     ]
    }
   ],
   "source": [
    "## Using a while loop, verify if the number A is purely divisible by number B and if so then how many\n",
    "## times it can be divisible.\n",
    "\n",
    "A = int(input())\n",
    "B = int(input())\n",
    "C = 0\n",
    "if A/B==0:\n",
    "    while(A/B>=B and type(A/B)==int):\n",
    "        C+=1\n",
    "        A/=B\n",
    "    C\n",
    "else:\n",
    "    print(\"Number not divisible\")\n"
   ]
  },
  {
   "cell_type": "markdown",
   "id": "42067ba5",
   "metadata": {},
   "source": [
    " Q6. Create a list containing 25 int type data. Using for loop and if-else condition print if the element is\n",
    "divisible by 3 or not.\n"
   ]
  },
  {
   "cell_type": "code",
   "execution_count": 44,
   "id": "af4546b9",
   "metadata": {},
   "outputs": [
    {
     "name": "stdout",
     "output_type": "stream",
     "text": [
      "3\n",
      "6\n",
      "9\n",
      "12\n",
      "15\n",
      "18\n",
      "21\n",
      "24\n"
     ]
    }
   ],
   "source": [
    "m = [1,2,3,4,5,6,7,8,9,10,11,12,13,14,15,16,17,18,19,20,21,22,23,24,25]\n",
    "\n",
    "for i in m:\n",
    "    if i%3==0:\n",
    "        print(i)"
   ]
  },
  {
   "cell_type": "markdown",
   "id": "4b3c2a48",
   "metadata": {},
   "source": [
    "Q7. What do you understand about mutable and immutable data types? Give examples for both showing\n",
    "this property."
   ]
  },
  {
   "cell_type": "code",
   "execution_count": null,
   "id": "2f1a3b7f",
   "metadata": {},
   "outputs": [],
   "source": [
    "Mutable data types - When data can be modified or changed \n",
    "eg: List , dictionaries,sets\n",
    "    \n",
    "Immutable data types - If we cannot change the value of data.\n",
    "eg: Numbers , Tuples, Strings , "
   ]
  }
 ],
 "metadata": {
  "kernelspec": {
   "display_name": "Python 3 (ipykernel)",
   "language": "python",
   "name": "python3"
  },
  "language_info": {
   "codemirror_mode": {
    "name": "ipython",
    "version": 3
   },
   "file_extension": ".py",
   "mimetype": "text/x-python",
   "name": "python",
   "nbconvert_exporter": "python",
   "pygments_lexer": "ipython3",
   "version": "3.9.7"
  }
 },
 "nbformat": 4,
 "nbformat_minor": 5
}
